{
 "cells": [
  {
   "cell_type": "markdown",
   "metadata": {
    "slideshow": {
     "slide_type": "slide"
    }
   },
   "source": [
    "![Callysto.ca Banner](https://github.com/callysto/curriculum-notebooks/blob/master/callysto-notebook-banner-top.jpg?raw=true)\n",
    "\n",
    "\n",
    "<h2 align='center'>Data Literacy through Sports Analytics</h2>\n",
    "<h3 align='center'>Southern Alberta Teachers' Convention 2021</h3>\n",
    "\n",
    "<h3 align='center'>Tina Leard (Cybera)<br>\n",
    "Michael Lamoureux (University of Calgary)</h3><br>\n",
    "\n",
    "<h4 align='center'> Slides at: https://tinyurl.com/callysto-data </h4>\n
    "\n",
    "![Callysto.ca License](https://github.com/callysto/curriculum-notebooks/blob/master/callysto-notebook-banner-bottom.jpg?raw=true)"
   ]
  },
  {
   "cell_type": "markdown",
   "metadata": {
    "slideshow": {
     "slide_type": "skip"
    }
   },
   "source": [
    "<center><img src='./images/ccby.png' alt=\"CC BY logo\" width='300' /></center>\n",
    "\n",
    "<p><center><a href='https://creativecommons.org/licenses/by/4.0/' target='_blank'>CC BY</a>:<br>\n",
    "This license allows reusers to distribute, remix, adapt, and build upon the material in any medium or format,<br>\n",
    "so long as attribution is given to the creator. \n",
    "</center></p>"
   ]
  },
  {
   "cell_type": "code",
   "execution_count": null,
   "metadata": {
    "slideshow": {
     "slide_type": "skip"
    }
   },
   "outputs": [],
   "source": [
    "import numpy as np\n",
    "import pandas as pd\n",
    "from pandas import read_csv\n",
    "import plotly.graph_objects as go\n",
    "import plotly.express as px\n",
    "from plotly import subplots\n",
    "from plotly.offline import download_plotlyjs, plot,iplot\n",
    "import cufflinks as cf\n",
    "cf.go_offline()\n",
    "\n",
    "from IPython.display import YouTubeVideo\n",
    "\n",
    "from ipysheet import sheet, cell, cell_range\n",
    "\n",
    "%matplotlib inline"
   ]
  },
  {
   "cell_type": "markdown",
   "metadata": {
    "slideshow": {
     "slide_type": "slide"
    }
   },
   "source": [
    "# Overview\n",
    "\n",
    "- Data literacy via sports\n",
    "- The learning progression\n",
    "- Examples of learning and data analysis\n",
    " - Professional soccer\n",
    " - Ice hockey\n",
    " - Field hockey\n",
    "- Python, Jupyter, and Callysto"
   ]
  },
  {
   "cell_type": "markdown",
   "metadata": {
    "slideshow": {
     "slide_type": "slide"
    }
   },
   "source": [
    "<center><img src='./images/data_literacy.png' alt='data literacy' width='85%' /></center>"
   ]
  },
  {
   "cell_type": "markdown",
   "metadata": {
    "slideshow": {
     "slide_type": "notes"
    }
   },
   "source": [
    "#### Content and context\n",
    "\n",
    "(Alberta Education, 2000, 2007, updated 2016, 2017)"
   ]
  },
  {
   "cell_type": "markdown",
   "metadata": {
    "slideshow": {
     "slide_type": "slide"
    }
   },
   "source": [
    "## Example: professional soccer event data"
   ]
  },
  {
   "cell_type": "code",
   "execution_count": null,
   "metadata": {
    "scrolled": false,
    "slideshow": {
     "slide_type": "slide"
    }
   },
   "outputs": [],
   "source": [
    "df_soccer = pd.read_csv(\"https://raw.githubusercontent.com/metrica-sports/sample-data/master/data/Sample_Game_1/Sample_Game_1_RawEventsData.csv\"); df_soccer"
   ]
  },
  {
   "cell_type": "markdown",
   "metadata": {
    "slideshow": {
     "slide_type": "slide"
    }
   },
   "source": [
    "**Home team passes, second half**"
   ]
  },
  {
   "cell_type": "code",
   "execution_count": null,
   "metadata": {
    "scrolled": false,
    "slideshow": {
     "slide_type": "-"
    }
   },
   "outputs": [],
   "source": [
    "df_soccer.loc[lambda df: (df['Team'] == 'Home') & (df['Period'] == 2) & (df['Type'] == 'PASS'), :] \\\n",
    "   .iplot(kind=\"scatter\",x = \"Start X\", y = \"Start Y\", mode = \"markers\")"
   ]
  },
  {
   "cell_type": "markdown",
   "metadata": {
    "slideshow": {
     "slide_type": "slide"
    }
   },
   "source": [
    "## Bridging expert to novice"
   ]
  },
  {
   "cell_type": "markdown",
   "metadata": {
    "slideshow": {
     "slide_type": "slide"
    }
   },
   "source": [
    "## Data visualization learning progression\n",
    "<img src='./images/creating_scaffolding.png' alt='scaffolding' width='95%' />"
   ]
  },
  {
   "cell_type": "markdown",
   "metadata": {
    "slideshow": {
     "slide_type": "slide"
    }
   },
   "source": [
    "## Data visualization learning progression\n",
    "<img src='./images/creating_adapting.png' alt='adapting' width='95%' />"
   ]
  },
  {
   "cell_type": "markdown",
   "metadata": {
    "slideshow": {
     "slide_type": "notes"
    }
   },
   "source": [
    "Communicating mathemtical reasoning (Alberta Education, 2007, updated 2016)"
   ]
  },
  {
   "cell_type": "markdown",
   "metadata": {
    "slideshow": {
     "slide_type": "slide"
    }
   },
   "source": [
    "## Data gathering learning progression\n",
    "<br>\n",
    "<center><img src='./images/data_gathering.png' alt='data gathering' width='85%' /></center>\n",
    "<br><br><br>Source: <a href='http://oceansofdata.org/sites/oceansofdata.org/files/pervasive-and-persistent-understandings-01-14.pdf'  target='_blank'>Pervasive and Persistent Understandings about Data</a>, Kastens (2014)"
   ]
  },
  {
   "cell_type": "markdown",
   "metadata": {
    "slideshow": {
     "slide_type": "slide"
    }
   },
   "source": [
    "## Authentic learning approach\n",
    "\n",
    "- Learning design based on interdisciplinary<br>\n",
    "connections and real-world examples\n",
    "- Industry-aligned data science analysis process\n",
    "- Python, an all-purpose programming language\n",
    "- Jupyter notebook, a free industry-standard tool for data scientists\n",
    "- CallystoHub, free cloud computing"
   ]
  },
  {
   "cell_type": "markdown",
   "metadata": {
    "slideshow": {
     "slide_type": "slide"
    }
   },
   "source": [
    "## Athlete development\n",
    "\n",
    "### U15 training to train\n",
    "- Promotes tactical strategies for in-game decision making, reading the situation and inferring \n",
    "- Focuses on the team and the process\n",
    "- Situates personal goals within a team approach\n",
    "\n",
    "### U18 training to compete\n",
    "- Emphasizes individual technical and position-specific training"
   ]
  },
  {
   "cell_type": "markdown",
   "metadata": {
    "slideshow": {
     "slide_type": "slide"
    }
   },
   "source": [
    "## Youth sports analytics\n",
    "\n",
    "Online communication,<br>\n",
    "sometimes through shared video analysis spaces\n",
    "\n",
    "Video replay during games and training\n",
    "\n",
    "Post–game video analysis, limitted statistics"
   ]
  },
  {
   "cell_type": "markdown",
   "metadata": {
    "slideshow": {
     "slide_type": "slide"
    }
   },
   "source": [
    "## Learning design and flexibility\n",
    "<br>\n",
    "<img src='./images/flexibility.png' alt='adapting' width='90%' />"
   ]
  },
  {
   "cell_type": "markdown",
   "metadata": {
    "slideshow": {
     "slide_type": "slide"
    }
   },
   "source": [
    "## Two data examples\n",
    "\n",
    "1. Import a csv file and use a Python spreadsheet<br>to create shot maps (ice hockey)\n",
    "2. Gather data from video to analyze and make decisions (field hockey)"
   ]
  },
  {
   "cell_type": "markdown",
   "metadata": {
    "slideshow": {
     "slide_type": "slide"
    }
   },
   "source": [
    "## Data example 1:\n",
    "## Using IIHF World Junior Championship data to create graphs and a shot map"
   ]
  },
  {
   "cell_type": "markdown",
   "metadata": {
    "slideshow": {
     "slide_type": "slide"
    }
   },
   "source": [
    "## Defining ice hockey net zones:<br> What factors can lead to scoring?\n",
    "<!--USA Hockey Goaltender Basics https://www.usahockeygoaltending.com/page/show/890039-stance-->\n",
    "||\n",
    "|-|-|\n",
    "|<img src='./images/hockey_net_zones.png' width='100%'/>|<img src='https://cdn.hockeycanada.ca/hockey-canada/Team-Canada/Men/Under-18/2014-15/2014-15_goalie_camp.jpg?q=60' />|\n",
    "||<a href='https://www.hockeycanada.ca/en-ca/news/34-goaltenders-invited-to-2014-poe-camp' target='_blank'>Image source: Hockey Canada</a>|"
   ]
  },
  {
   "cell_type": "code",
   "execution_count": null,
   "metadata": {
    "scrolled": true,
    "slideshow": {
     "slide_type": "slide"
    }
   },
   "outputs": [],
   "source": [
    "%%html \n",
    "<h2>Data source IIHF: Shot charts</h2><br>\n",
    "<iframe width=\"1200\" height=\"600\" src=\"https://www.iihf.com/pdf/503/ihm503a13_77a_3_0\" frameborder=\"0\" ></iframe>"
   ]
  },
  {
   "cell_type": "markdown",
   "metadata": {
    "slideshow": {
     "slide_type": "slide"
    }
   },
   "source": [
    "## Tally chart\n",
    "<img src='./images/hockey_tally.png' alt='tally chart' width='85%' />"
   ]
  },
  {
   "cell_type": "markdown",
   "metadata": {
    "slideshow": {
     "slide_type": "slide"
    }
   },
   "source": [
    "## Generating a csv file\n",
    "\n",
    "Zone,Austria,Canada,Czech_Republic,Finland,Germany,Russia,Switzerland,Slovakia,Sweden,USA,Total<br>\n",
    "one,0,7,0,3,2,0,0,0,3,3,18<br>\n",
    "two,0,1,1,0,1,0,0,0,0,0,3<br>\n",
    "three,0,5,0,2,2,4,1,0,3,6,23<br>\n",
    "four,0,4,3,2,1,1,0,1,0,3,15<br>\n",
    "five,0,1,0,2,1,0,0,0,0,0,4<br>\n",
    "six,1,1,2,4,0,2,0,1,0,2,13<br>\n",
    "seven,0,6,0,1,3,3,1,1,0,9,24<br>\n",
    "eight,0,5,1,2,2,3,1,2,3,2,21<br>\n",
    "nine,0,3,3,0,2,3,2,0,5,0,18<br>"
   ]
  },
  {
   "cell_type": "markdown",
   "metadata": {
    "slideshow": {
     "slide_type": "slide"
    }
   },
   "source": [
    "## Exploring scoring on net zones "
   ]
  },
  {
   "cell_type": "code",
   "execution_count": null,
   "metadata": {
    "scrolled": true,
    "slideshow": {
     "slide_type": "-"
    }
   },
   "outputs": [],
   "source": [
    "hockey_goals_df = pd.read_csv('./data/hockey_goals.csv')\n",
    "hockey_goals_df.head(9)"
   ]
  },
  {
   "cell_type": "markdown",
   "metadata": {
    "slideshow": {
     "slide_type": "slide"
    }
   },
   "source": [
    "### What do measures of central tendency<br>tell us about the total goals per net zone?"
   ]
  },
  {
   "cell_type": "code",
   "execution_count": null,
   "metadata": {
    "slideshow": {
     "slide_type": "-"
    }
   },
   "outputs": [],
   "source": [
    "hockey_goals_df['Total'].sum()"
   ]
  },
  {
   "cell_type": "code",
   "execution_count": null,
   "metadata": {
    "slideshow": {
     "slide_type": "-"
    }
   },
   "outputs": [],
   "source": [
    "hockey_goals_df['Total'].min()"
   ]
  },
  {
   "cell_type": "code",
   "execution_count": null,
   "metadata": {
    "slideshow": {
     "slide_type": "-"
    }
   },
   "outputs": [],
   "source": [
    "hockey_goals_df['Total'].max()"
   ]
  },
  {
   "cell_type": "code",
   "execution_count": null,
   "metadata": {
    "scrolled": true,
    "slideshow": {
     "slide_type": "slide"
    }
   },
   "outputs": [],
   "source": [
    "scatter_hockey_goals_df = px.scatter(hockey_goals_df,x=\"Zone\",y=\"Total\",title=\"Total goals per net zone\")\n",
    "scatter_hockey_goals_df.show()"
   ]
  },
  {
   "cell_type": "code",
   "execution_count": null,
   "metadata": {
    "slideshow": {
     "slide_type": "slide"
    }
   },
   "outputs": [],
   "source": [
    "hockey_goals_df['Total'].mean()"
   ]
  },
  {
   "cell_type": "code",
   "execution_count": null,
   "metadata": {
    "slideshow": {
     "slide_type": "-"
    }
   },
   "outputs": [],
   "source": [
    "hockey_goals_df['Total'].median()"
   ]
  },
  {
   "cell_type": "code",
   "execution_count": null,
   "metadata": {
    "slideshow": {
     "slide_type": "-"
    }
   },
   "outputs": [],
   "source": [
    "hockey_goals_df['Total'].mode()"
   ]
  },
  {
   "cell_type": "markdown",
   "metadata": {
    "slideshow": {
     "slide_type": "slide"
    }
   },
   "source": [
    "### Which net zones score above the median? "
   ]
  },
  {
   "cell_type": "code",
   "execution_count": null,
   "metadata": {
    "scrolled": true,
    "slideshow": {
     "slide_type": "-"
    }
   },
   "outputs": [],
   "source": [
    "hockey_goals_df = hockey_goals_df.sort_values('Total', ascending=False)\n",
    "hockey_goals_df"
   ]
  },
  {
   "cell_type": "code",
   "execution_count": null,
   "metadata": {
    "scrolled": true,
    "slideshow": {
     "slide_type": "slide"
    }
   },
   "outputs": [],
   "source": [
    "bar_hockey_goals_df = px.bar(hockey_goals_df,\n",
    "           x=\"Zone\", y=\"Total\")\n",
    "bar_hockey_goals_df.update_layout(title_text='Total goals by net zone')"
   ]
  },
  {
   "cell_type": "markdown",
   "metadata": {
    "slideshow": {
     "slide_type": "slide"
    }
   },
   "source": [
    "### What connections exist between<br>goalie position and scoring?"
   ]
  },
  {
   "cell_type": "code",
   "execution_count": null,
   "metadata": {
    "slideshow": {
     "slide_type": "skip"
    }
   },
   "outputs": [],
   "source": [
    "hockey_goals_df = pd.read_csv('./data/hockey_goals.csv') \n",
    "hockey_goals_df.Total"
   ]
  },
  {
   "cell_type": "code",
   "execution_count": null,
   "metadata": {
    "slideshow": {
     "slide_type": "skip"
    }
   },
   "outputs": [],
   "source": [
    "spread_sheet_hockey_net = sheet(rows=3, columns=3)\n",
    "\n",
    "my_cells_net = cell_range([[18,3,23],[15,4,13],[24,21,18]],row_start=0,col_start=0,numeric_format=\"int\")\n",
    "\n",
    "figure_hockey_net = go.Figure(data=go.Heatmap(\n",
    "          z =list(reversed(my_cells_net.value)),\n",
    "          type = 'heatmap',\n",
    "          colorscale = 'greys',opacity = 1.0))\n",
    "\n",
    "axis_template = dict(range = [0,5], autorange = True,\n",
    "             showgrid = False, zeroline = False,\n",
    "             showticklabels = False,\n",
    "             ticks = '' )\n",
    "\n",
    "figure_hockey_net.update_layout(margin = dict(t=50,r=200,b=200,l=200),\n",
    "    xaxis = axis_template,\n",
    "    yaxis = axis_template,\n",
    "    showlegend = False,\n",
    "    width = 800, height = 500, title=\"Ice hockey net zones\",\n",
    "    autosize = True )\n",
    "\n",
    "# Add image in the background\n",
    "nLanes = 3\n",
    "nZones = 3\n",
    "\n",
    "figure_hockey_net.add_layout_image(\n",
    "        dict(\n",
    "            source=\"images/hockey_net.png\",\n",
    "            xref=\"x\",\n",
    "            yref=\"y\",\n",
    "            x=-0.5,\n",
    "            y=-.5 + nLanes,  #this adjusts the placement of the image\n",
    "            sizex=nZones,\n",
    "            sizey=nLanes,\n",
    "            sizing=\"fill\",\n",
    "            opacity=1.0,\n",
    "            layer=\"above\")\n",
    ")\n",
    "\n",
    "# changes in my_cells should trigger this function\n",
    "def calculate(change):\n",
    "    figure_hockey_net.update_traces(z=list(reversed(my_cells_net.value)))\n",
    "    \n",
    "my_cells_net.observe(calculate, 'value')"
   ]
  },
  {
   "cell_type": "code",
   "execution_count": null,
   "metadata": {
    "scrolled": false,
    "slideshow": {
     "slide_type": "-"
    }
   },
   "outputs": [],
   "source": [
    "spread_sheet_hockey_net"
   ]
  },
  {
   "cell_type": "code",
   "execution_count": null,
   "metadata": {
    "slideshow": {
     "slide_type": "-"
    }
   },
   "outputs": [],
   "source": [
    "139"
   ]
  },
  {
   "cell_type": "code",
   "execution_count": null,
   "metadata": {
    "scrolled": true,
    "slideshow": {
     "slide_type": "-"
    }
   },
   "outputs": [],
   "source": [
    "figure_hockey_net.update()  # Click the keys \"Shift-return\" to update the figure"
   ]
  },
  {
   "cell_type": "markdown",
   "metadata": {
    "slideshow": {
     "slide_type": "slide"
    }
   },
   "source": [
    "## Data example 2:\n",
    "\n",
    "## Analyzing youth field hockey data to make decisions"
   ]
  },
  {
   "cell_type": "markdown",
   "metadata": {
    "slideshow": {
     "slide_type": "slide"
    }
   },
   "source": [
    "<center><img src='./images/learning_cycle1.png' alt=\"Learning design and context\" width='90%' /></center>"
   ]
  },
  {
   "cell_type": "markdown",
   "metadata": {
    "slideshow": {
     "slide_type": "notes"
    }
   },
   "source": [
    "#### Learning design and context notes\n",
    "\n",
    "The context is physical education, and the content is statistics. Within physical education, in-game skills, fair play, teamwork, and goal setting are integrated. Those outcomes can be applied to in-game decision making. The goal setting can also be part of the communication resulting from the data analysis. When considering in-game decision making, we can define an action as the result of a decision. Decision making is part of a learning cycle that incorporates a technological feedback loop.\n",
    "\n",
    "(Field Hokcey Alberta, 2020; Field Hockey Canada, 2020; Alberta Education, 2000)"
   ]
  },
  {
   "cell_type": "markdown",
   "metadata": {
    "slideshow": {
     "slide_type": "slide"
    }
   },
   "source": [
    "<center><img src='./images/learning_cycle5.png' alt=\"Learning cycle\" width='90%' /></center>"
   ]
  },
  {
   "cell_type": "markdown",
   "metadata": {
    "slideshow": {
     "slide_type": "notes"
    }
   },
   "source": [
    "#### Learning cycle notes\n",
    "The real situation occurs on the field where a decision is made and an action is executed. Then, the athlete forms a mental representation, processing occurs, and a real model is formed. The real model is integrated into the computational model, which results in a technological feedback, then a connection is made back into game play.\n",
    "\n",
    "(Butler & Winne, 1995; Cleary & Zimmerman, 2001; Hadwin et al., 2017; Leard & Hadwin, 2001)"
   ]
  },
  {
   "cell_type": "markdown",
   "metadata": {
    "slideshow": {
     "slide_type": "slide"
    }
   },
   "source": [
    "<center><img src='./images/computational_thinking.png' alt=\"Computationl thinking\" width='90%' /></center>\n",
   ]
  },
  {
   "cell_type": "markdown",
   "metadata": {
    "slideshow": {
     "slide_type": "notes"
    }
   },
   "source": [
    "#### Computational modelling and data literacy notes\n",
    "\n",
    "The definition of computational thinking can vary.\n",
    "\n",
    "Computational thinking is math reasoning combined with critical thinking plus the power of computers. We can use computers to do work more efficiently for us, like compute thousands of lines of data.\n",
    "\n",
    "Under that definition of computational thinking, we can apply computational thinking strategies. The foundational process is decomposing to look for patterns. We can use computer programming to design algorithms to look for patterns. With these algorithms, we can infer through abstractions.\n",
    "\n",
    "The abstractions can be in the form of computational models: data visualizations (including graphs from the curriculum), data analyses, and simulations of probability models. The data visualizations can extend beyond the curriculum to support math reasoning.\n",
    "\n",
    "(Berikan & Özdemir, 2019; Gadanidis, 2020; Guadalupe & Gómez-Blancarte, 2019; Leard & Hadwin, 2001)"
   ]
  },
  {
   "cell_type": "markdown",
   "metadata": {
    "slideshow": {
     "slide_type": "slide"
    }
   },
   "source": [
    "<center><img src='./images/analysis_process.png' alt=\"Data science analysis process\" width='90%' /></center>"
   ]
  },
  {
   "cell_type": "markdown",
   "metadata": {
    "slideshow": {
     "slide_type": "notes"
    }
   },
   "source": [
    "#### Data science analysis process notes\n",
    "\n",
    "This data science analysis process was modified from how expert data scientists analyze data and aligned to several provincial curricula.\n",
    "\n",
    "There are six steps:\n",
    "\n",
    "1. Understand the problem. What questions are we trying to answer?\n",
    "2. Gather the data. Find the data sources, with the extension of big data sets.\n",
    "3. Organize the data so we can explore it, usually in the form of a table.\n",
    "4. Explore the data to create computational models. Usually, there is more than one model. Look for evidence to answer our questions.\n",
    "5. Interpret the data through inferences. Explain how the evidence answers our questions.\n",
    "6. Communicate the results. In the context of sports analytics, the communication might be within a team to decide tactical strategies for game play.\n",
    "\n",
    "(Alberta Education, 2007, updated 2016; Ferri, 2006; Leard & Hadwin, 2001; Manitoba Education and Training, 2020; Ontario Ministry of Education, 2020)"
   ]
  },
  {
   "cell_type": "markdown",
   "metadata": {
    "slideshow": {
     "slide_type": "slide"
    }
   },
   "source": [
    "<center><img src='./images/collective.png' alt=\"Collective decision making\" width='90%' /></center>"
   ]
  },
  {
   "cell_type": "markdown",
   "metadata": {
    "slideshow": {
     "slide_type": "notes"
    }
   },
   "source": [
    "#### Learning cycle notes\n",
    "\n",
    "How the individual makes decisions within the collective responsibilities and actions of the team can be considered. In-game decision making involves in-game communication with team members, with each athlete referring to their own real model.\n",
    "\n",
    "While in-game decision making will always produce a real model, athletes also need to decide when it is appropriate to connect the real model to the computational model and integrate that connection back into game play.\n",
    "\n",
    "(BC Ministry of Education, 2020; Hadwin et al., 2017; Leard & Hadwin, 2001)"
   ]
  },
  {
   "cell_type": "markdown",
   "metadata": {
    "slideshow": {
     "slide_type": "slide"
    }
   },
   "source": [
    "<center><img src='./images/models.png' alt=\"Models\" width='90%' /></center>"
   ]
  },
  {
   "cell_type": "markdown",
   "metadata": {
    "slideshow": {
     "slide_type": "notes"
    }
   },
   "source": [
    "#### Real model and computational model notes\n",
    "\n",
    "How the individual makes decisions within the collective responsibilities and actions of the team can be considered. In-game decision making involves in-game communication with team members, with each athlete referring to their own real model.\n",
    "\n",
    "While in-game decision making will always produce a real model, athletes also need to decide when it is appropriate to connect the real model to the computational model and integrate that connection back into game play.\n",
    "\n",
    "(Field Hockey Canada, 2020)"
   ]
  },
  {
   "cell_type": "markdown",
   "metadata": {
    "slideshow": {
     "slide_type": "skip"
    }
   },
   "source": [
    "<center><img src='./images/data_literacy_sports.png' alt=\"Connecting data literacy and sports\" width='90%' /></center>"
   ]
  },
  {
   "cell_type": "markdown",
   "metadata": {
    "slideshow": {
     "slide_type": "slide"
    }
   },
   "source": [
    "<center><img src='./images/field_hockey_game.png' alt=\"Field hockey\" width='90%' /></center>"
   ]
  },
  {
   "cell_type": "markdown",
   "metadata": {
    "slideshow": {
     "slide_type": "slide"
    }
   },
   "source": [
    "<center><img src='./images/understand1.png' alt=\"Understand actions\" width='90%' /></center>"
   ]
  },
  {
   "cell_type": "markdown",
   "metadata": {
    "slideshow": {
     "slide_type": "notes"
    }
   },
   "source": [
    "(Field Hockey Alberta, 2020; Field Hockey Canada, 2020)"
   ]
  },
  {
   "cell_type": "markdown",
   "metadata": {
    "slideshow": {
     "slide_type": "slide"
    }
   },
   "source": [
    "<center><img src='./images/actions.png' alt=\"Understand viewpoints\" width='90%' /></center>"
   ]
  },
  {
   "cell_type": "code",
   "execution_count": null,
   "metadata": {
    "slideshow": {
     "slide_type": "slide"
    }
   },
   "outputs": [],
   "source": [
    "print ('Passes received')\n",
    "YouTubeVideo('mIwiiJO7Rk4?start=2893&end=2915', width='600', height='355')"
   ]
  },
  {
   "cell_type": "markdown",
   "metadata": {
    "slideshow": {
     "slide_type": "slide"
    }
   },
   "source": [
    "<center><img src='./images/gather4.png' alt=\"Gather\" width='90%' /></center>"
   ]
  },
  {
   "cell_type": "markdown",
   "metadata": {
    "slideshow": {
     "slide_type": "slide"
    }
   },
   "source": [
    "<center><img src='./images/collection_passing.png' alt=\"Passing\" width='90%' /></center>"
   ]
  },
  {
   "cell_type": "markdown",
   "metadata": {
    "slideshow": {
     "slide_type": "slide"
    }
   },
   "source": [
    "## 3. Organize"
   ]
  },
  {
   "cell_type": "code",
   "execution_count": null,
   "metadata": {
    "scrolled": true,
    "slideshow": {
     "slide_type": "-"
    }
   },
   "outputs": [],
   "source": [
    "possession_time_df = read_csv('data/field_hockey_possession_time.csv')\n",
    "possession_time_df.head(8)"
   ]
  },
  {
   "cell_type": "markdown",
   "metadata": {
    "slideshow": {
     "slide_type": "slide"
    }
   },
   "source": [
    "## 4. Explore\n",
    "How does ball possession affect outcomes?"
   ]
  },
  {
   "cell_type": "code",
   "execution_count": null,
   "metadata": {
    "scrolled": true,
    "slideshow": {
     "slide_type": "-"
    }
   },
   "outputs": [],
   "source": [
    "bar_possession_time_df = px.bar(possession_time_df,x=\"Possession Time (seconds)\",y=\"Quarter\",title=\"Possession per quarter<br>Home 2 shots on net (Q3); Away 1 shot on net (Q1)\",color=\"Team\")\n",
    "bar_possession_time_df.update_layout(autosize=False, width=600, height=400)"
   ]
  },
  {
   "cell_type": "code",
   "execution_count": null,
   "metadata": {
    "scrolled": false,
    "slideshow": {
     "slide_type": "skip"
    }
   },
   "outputs": [],
   "source": [
    "lanes_home_passes_df = read_csv('data/field_hockey_lanes_home_passes.csv')\n",
    "lanes_home_passes_df.head()"
   ]
  },
  {
   "cell_type": "code",
   "execution_count": null,
   "metadata": {
    "scrolled": true,
    "slideshow": {
     "slide_type": "slide"
    }
   },
   "outputs": [],
   "source": [
    "circle_lanes_home_passes_df = px.pie(lanes_home_passes_df,values=\"Count\",names=\"Action\",title=\"Passes received, intercepted, and missed for Home team\")\n",
    "circle_lanes_home_passes_df.show()"
   ]
  },
  {
   "cell_type": "code",
   "execution_count": null,
   "metadata": {
    "scrolled": true,
    "slideshow": {
     "slide_type": "slide"
    }
   },
   "outputs": [],
   "source": [
    "bar_lanes_home_passes_df = px.bar(lanes_home_passes_df,\n",
    "           x=\"Quarter\", y=\"Count\", color=\"Action\", title=\"Passes per quarter for Home team\")\n",
    "bar_lanes_home_passes_df.update_layout(barmode='stack', xaxis={'categoryorder':'array', 'categoryarray':['first','second','third','fourth']})"
   ]
  },
  {
   "cell_type": "markdown",
   "metadata": {
    "slideshow": {
     "slide_type": "slide"
    }
   },
   "source": [
    "## 4. Explore passes received\n",
    "What stays the same and what changes?"
   ]
  },
  {
   "cell_type": "code",
   "execution_count": null,
   "metadata": {
    "scrolled": true,
    "slideshow": {
     "slide_type": "skip"
    }
   },
   "outputs": [],
   "source": [
    "lanes_home_passes_received_df = lanes_home_passes_df[lanes_home_passes_df['Action']=='pass received']\n",
    "lanes_home_passes_received_df.head()  "
   ]
  },
  {
   "cell_type": "code",
   "execution_count": null,
   "metadata": {
    "scrolled": true,
    "slideshow": {
     "slide_type": "-"
    }
   },
   "outputs": [],
   "source": [
    "bar_lanes_home_passes_received_df = px.bar(lanes_home_passes_received_df,\n",
    "           x=\"Quarter\", y=\"Count\", color=\"Lane\", text=\"Lane\", title=\"Passes received in lanes per quarter for Home team\")\n",
    "bar_lanes_home_passes_received_df.update_layout(barmode='stack', xaxis={'categoryorder':'array', 'categoryarray':['first','second','third','fourth']})"
   ]
  },
  {
   "cell_type": "code",
   "execution_count": null,
   "metadata": {
    "scrolled": false,
    "slideshow": {
     "slide_type": "skip"
    }
   },
   "outputs": [],
   "source": [
    "df_passes_home = pd.read_csv('data/field_hockey_home_passes.csv'); df_passes_home"
   ]
  },
  {
   "cell_type": "code",
   "execution_count": null,
   "metadata": {
    "scrolled": true,
    "slideshow": {
     "slide_type": "skip"
    }
   },
   "outputs": [],
   "source": [
    "df_temp_1 = df_passes_home.loc[lambda df: (df['Phase of Play'] == 'attack') &(df['Quarter'] == 'first') ];\n",
    "df_temp_2 = df_passes_home.loc[lambda df: (df['Phase of Play'] == 'attack') &(df['Quarter'] == 'second') ]; \n",
    "df_temp_3 = df_passes_home.loc[lambda df: (df['Phase of Play'] == 'attack') &(df['Quarter'] == 'third') ]; \n",
    "df_temp_4 = df_passes_home.loc[lambda df: (df['Phase of Play'] == 'attack') &(df['Quarter'] == 'fourth') ]; "
   ]
  },
  {
   "cell_type": "code",
   "execution_count": null,
   "metadata": {
    "scrolled": true,
    "slideshow": {
     "slide_type": "skip"
    }
   },
   "outputs": [],
   "source": [
    "#import plotly.tools as tls\n",
    "fig_all = subplots.make_subplots(rows=1, cols=4)\n",
    "fig_1 = df_temp_1.iplot(kind='heatmap', colorscale='blues', x='Lane', y='Zone', z='Count' , asFigure=True) \n",
    "fig_2 = df_temp_2.iplot(kind='heatmap', colorscale='blues', x='Lane', y='Zone', z='Count' , asFigure=True)\n",
    "fig_3 = df_temp_3.iplot(kind='heatmap', colorscale='blues', x='Lane', y='Zone', z='Count' , asFigure=True)\n",
    "fig_4 = df_temp_4.iplot(kind='heatmap', colorscale='blues', x='Lane', y='Zone', z='Count' , asFigure=True)\n",
    "fig_all.append_trace(fig_1['data'][0], 1, 1)\n",
    "fig_all.append_trace(fig_2['data'][0], 1, 2)\n",
    "fig_all.append_trace(fig_3['data'][0], 1, 3)\n",
    "fig_all.append_trace(fig_4['data'][0], 1, 4)"
   ]
  },
  {
   "cell_type": "code",
   "execution_count": null,
   "metadata": {
    "scrolled": true,
    "slideshow": {
     "slide_type": "slide"
    }
   },
   "outputs": [],
   "source": [
    "fig_all.update_xaxes(showticklabels = False, linecolor='black')\n",
    "fig_all.update_yaxes(showticklabels = False, linecolor='black')\n",
    "iplot(fig_all)"
   ]
  },
  {
   "cell_type": "markdown",
   "metadata": {
    "slideshow": {
     "slide_type": "-"
    }
   },
   "source": [
    "#### Passes in left outside lane of the opponent's net\n",
    "|||||\n",
    "|---|---|---|---|\n",
    "|**Q1: 29%** (14/49)|**Q2: 41%** (13/32)|**Q3: 38%** (16/42)|**Q4: 28%** (8/29)|"
   ]
  },
  {
   "cell_type": "code",
   "execution_count": null,
   "metadata": {
    "scrolled": false,
    "slideshow": {
     "slide_type": "skip"
    }
   },
   "outputs": [],
   "source": [
    "df_passes_home.loc[lambda df: (df['Lane'] == 1) &(df['Phase of Play'] == 'attack') &(df['Quarter']== 'first') ].sum()"
   ]
  },
  {
   "cell_type": "code",
   "execution_count": null,
   "metadata": {
    "slideshow": {
     "slide_type": "skip"
    }
   },
   "outputs": [],
   "source": [
    "14/49"
   ]
  },
  {
   "cell_type": "markdown",
   "metadata": {
    "slideshow": {
     "slide_type": "slide"
    }
   },
   "source": [
    "## 5. Interpret<br> How can the data exploration inform decision making?\n",
    "\n",
    "> - Considering the role of passing versus carrying the ball\n",
    "> - Keeping the ball out of the zone near the net\n",
    "> - Attacking on the outer lanes, especially toward the left side of the opponent's net"
   ]
  },
  {
   "cell_type": "markdown",
   "metadata": {
    "slideshow": {
     "slide_type": "slide"
    }
   },
   "source": [
    "# The technology in this talk\n",
    "\n",
    "- **Jupyter** notebooks, **Python** programming, **Pandas** for data\n",
    "- Free to teachers and students\n",
    "- **Callysto.ca** project (CanCode, Cybera, PIMS)\n",
    "- This slideshow **IS** a Jupyter notebook!  (take a tour)"
   ]
  },
  {
   "cell_type": "markdown",
   "metadata": {
    "slideshow": {
     "slide_type": "slide"
    }
   },
   "source": [
    "## Callysto resources\n",
    "\n",
    "- <a href=\"https://www.callysto.ca/starter-kit/\">Callysto starter kit</a>  Getting started\n",
    "- <a href=\"https://courses.callysto.ca\">courses.callysto.ca</a>  Online courses\n",
    "- <a href=\"https://www.callysto.ca/weekly-data-visualization/\">Weekly data visualizations</a> Quick activities"
   ]
  },
  {
   "cell_type": "markdown",
   "metadata": {
    "slideshow": {
     "slide_type": "slide"
    }
   },
   "source": [
    "<center><a href='https://www.callysto.ca/learning-modules/'><img src='./images/learning_modules.png' target='_blank' alt=\"Callysto learning modules\" width='90%' /></a></center>\n",
    "<center>All free, all open source, aimed at teachers and students</center>"
   ]
  },
  {
   "cell_type": "markdown",
   "metadata": {
    "slideshow": {
     "slide_type": "slide"
    }
   },
   "source": [
    "\n",
    "<p><center>Contact us at <a href=\"mailto:contact@callysto.ca\">contact@callysto.ca</a><br>\n",
    "for in-class workshops, virtual hackathons...<br>\n",
    "    <a href=\"https://twitter.com/callysto_canada\">@callysto_canada</a><br>\n",
    "    <a href=\"https://callysto.ca\">callysto.ca</a><br>\n",
    "    <a href=\"https://www.youtube.com/channel/UCPdq1SYKA42EZBvUlNQUAng\">YouTube</a>\n",
    "</center></p>"
   ]
  },
  {
   "cell_type": "markdown",
   "metadata": {
    "slideshow": {
     "slide_type": "slide"
    }
   },
   "source": [
    "## Thank you for your attention!\n",
    "<center><img src='./images/callysto_logo.png' alt=\"Callysto logo\" width='80%' /></center>\n",
    "<center><img src='./images/callysto_partners2.png' alt='Callysto partners' width='80%' /></center>"
   ]
  },
  {
   "cell_type": "markdown",
   "metadata": {
    "slideshow": {
     "slide_type": "skip"
    }
   },
   "source": [
    "### References\n",
    "\n",
    "Alberta Education. (2000). *Physical education* [Program of Studies]. https://education.alberta.ca/media/160191/phys2000.pdf\n",
    "\n",
    "Alberta Education. (2007, updated 2016). *Mathematics kindergarten to grade 9* [Program of Studies]. https://education.alberta.ca/media/3115252/2016_k_to_9_math_pos.pdf\n",
    "\n",
    "Alberta Education. (2017). *Career and Ttechnology foundations* [Program of Studies]. https://education.alberta.ca/media/3795641/ctf-program-of-studies-jan-4-2019.pdf\n",
    "\n",
    "BC Ministry of Education. (2020). *BC's digital literacy framework*. https://www2.gov.bc.ca/assets/gov/education/kindergarten-to-grade-12/teach/teaching-tools/digital-literacy-framework.pdf\n",
    "\n",
    "Berikan, B., & Özdemir, S. (2019). Investigating “problem-solving with datasets” as an implementation of computational thinking: A literature review. *Journal of Educational Computing Research, 58*(2), 502–534. https://doi.org/10.1177/0735633119845694 \n",
    "\n",
    "Butler, D. L., & Winne, P. H. (1995). Feedback and self-regulated learning: A theoretical synthesis. *Review of Educational Research, 65*(3), 245–281. https://doi.org/10.3102/00346543065003245  \n",
    "\n",
    "Cleary, T. J., & Zimmerman, B. J. (2001). Self-regulation differences during athletic practice by experts, non-experts, and novices. *I Journal of Applied Sport Psychology, 13*(2), 185–206. https://doi.org/10.1080/104132001753149883 \n",
    "\n",
    "Ferri, R. B. (2006). Theoretical and empirical differentiations of phases in the modelling process. *ZDM, 38*(2), 86–95. https://doi.org/10.1007/bf02655883 \n",
    "\n",
    "Field Hockey Alberta (2020). *Tactical Seminars*. http://www.fieldhockey.ab.ca/content/tactical-seminars\n",
    "\n",
    "Field Hockey Canada (2020). *Ahead of the Game*. http://www.fieldhockey.ca/ahead-of-the-game-field-hockey-canada-webinar-series/\n",
    "\n",
    "Gadanidis, G. (2020, September 2). *Shifting from computational thinking to computational modelling in math education* [Online plenary talk]. Changing the Culture 2020, Pacific Institute for the Mathematical Sciences.\n",
    "\n",
    "Guadalupe, T. & Gómez-Blancarte, A. (2019). Assessment of informal and formal inferential reasoning: A critical research review. *Statistics Education Research Journal, 18*, 8-25. https://www.researchgate.net/publication/335057564_ASSESSMENT_OF_INFORMAL_AND_FORMAL_INFERENTIAL_REASONING_A_CRITICAL_RESEARCH_REVIEW\n",
    "\n",
    "Hadwin, A., Järvelä, S., & Miller, M. (2017). Self-Regulation, Co-Regulation, and Shared Regulation in Collaborative Learning Environments. *Handbook of Self-Regulation of Learning and Performance*, 83–106. https://doi.org/10.4324/9781315697048-6 \n",
    "\n",
    "Kastens, K. (2014). *Pervasive and Persistent Understandings about Data*. Oceans of Data Institute. http://oceansofdata.org/sites/oceansofdata.org/files/pervasive-and-persistent-understandings-01-14.pdf\n",
    "\n",
    "Leard, T., & Hadwin, A. F. (2001, May). *Analyzing logfile data to produce navigation profiles of studying as self-regulated learning* [Paper presentaion]. Canadian Society for the Study of Education, Quebec City, Quebec, Canada.\n",
    "\n",
    "Manitoba Education and Training (2020). *Literacy with ICT across the curriculum: A model for 21st century learning from K-12*. https://www.edu.gov.mb.ca/k12/tech/lict/index.html\n",
    "\n",
    "Ontario Ministry of Education. (2020). *The Ontario curriculum grades 1‐8: Mathematics* [Program of Studies]. https://www.dcp.edu.gov.on.ca/en/curriculum/elementary-mathematics"
   ]
  }
 ],
 "metadata": {
  "celltoolbar": "Slideshow",
  "kernelspec": {
   "display_name": "Python 3",
   "language": "python",
   "name": "python3"
  },
  "language_info": {
   "codemirror_mode": {
    "name": "ipython",
    "version": 3
   },
   "file_extension": ".py",
   "mimetype": "text/x-python",
   "name": "python",
   "nbconvert_exporter": "python",
   "pygments_lexer": "ipython3",
   "version": "3.8.8"
  },
  "rise": {
   "footer": "<IMG src='./images/callysto_logo.png' height='50'>",
   "scroll": true,
   "transition": "none"
  }
 },
 "nbformat": 4,
 "nbformat_minor": 4
}
