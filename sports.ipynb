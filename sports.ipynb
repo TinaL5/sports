{
 "cells": [
  {
   "cell_type": "markdown",
   "metadata": {
    "slideshow": {
     "slide_type": "slide"
    }
   },
   "source": [
    "<center><img src='./images/callysto_logo.png' alt=\"Callysto logo\" width='25%'></center>\n",
    "\n",
    "<h2 align='center'>Data Literacy through Sports Analytics</h2>\n",
    "\n",
    "<h3 align='center'>Tina Leard (Cybera)<br>\n",
    "Michael Lamoureux (University of Calgary)</h3><br>\n",
    "\n",
    "<p><center>\n",
    "The slides are available as a Jupyter notebook at <a href=\"https://mybinder.org\">mybinder.org</a><br>\n",
    "or as a webpage at <a href=\"https://tinyurl.com\">tinyurl.com</a>.\n",
    "</center></p>"
   ]
  },
  {
   "cell_type": "markdown",
   "metadata": {
    "slideshow": {
     "slide_type": "skip"
    }
   },
   "source": [
    "This is a slide show in Jupyter notebook format.<br>\n",
    "The notebook is organized into a series of editable cells that can hold text, images, and code.\n",
    "\n",
    "To start, select \"Kernel\" from the menu bar and choose \"Restart & Run All\".<br>\n",
    "Confirm by clicking the \"Restart and Run All Cells\" button.\n",
    "\n",
    "Return to the top of the notebook and click the first cell.\n",
    "\n",
    "To start the slide show, click on the icon in the menu bar that looks like a bar chart, as shown here. \n",
    "<img src=\"images/slideshow_icon.png\"\n",
    "     alt=\"slide show icon\"\n",
    "     width=100 />\n",
    "     \n",
    "You can advance the slide show by using the space bar. Use Shift+SpaceBar to go backward.<br>\n",
    "Exit by clicking on the \"X\" in the top left corner of the slide show. \n",
    "\n",
    "Note that the slide show is a live Jupyter notebook, so you can run the code and edit while in the slide show. "
   ]
  },
  {
   "cell_type": "markdown",
   "metadata": {
    "slideshow": {
     "slide_type": "slide"
    }
   },
   "source": [
    "<center><img src='./images/callysto_partners.png' alt=\"Callysto partners\" width='75%' /></center>"
   ]
  },
  {
   "cell_type": "markdown",
   "metadata": {
    "slideshow": {
     "slide_type": "subslide"
    }
   },
   "source": [
    "<center><img src='./images/ccby.png' alt=\"CC BY logo\" width='300' /></center>\n",
    "\n",
    "<p><center><a href='https://creativecommons.org/licenses/by/4.0/'>CC BY</a>:<br>\n",
    "This license allows reusers to distribute, remix, adapt, and build upon the material in any medium or format,<br>\n",
    "so long as attribution is given to the creator. \n",
    "</center></p>"
   ]
  },
  {
   "cell_type": "code",
   "execution_count": 1,
   "metadata": {
    "scrolled": true,
    "slideshow": {
     "slide_type": "skip"
    }
   },
   "outputs": [
    {
     "name": "stdout",
     "output_type": "stream",
     "text": [
      "/bin/sh: pip: command not found\r\n"
     ]
    }
   ],
   "source": [
    "# This only needs to be run once by the user. But I leave it in here for the first time users\n",
    "!pip install ipysheet --user"
   ]
  },
  {
   "cell_type": "code",
   "execution_count": 2,
   "metadata": {
    "scrolled": true,
    "slideshow": {
     "slide_type": "skip"
    }
   },
   "outputs": [
    {
     "name": "stdout",
     "output_type": "stream",
     "text": [
      "/bin/sh: jupyter: command not found\r\n"
     ]
    }
   ],
   "source": [
    "## don't think I need this, so I commented it out\n",
    "!jupyter nbextension enable --py --sys-prefix --user ipysheet"
   ]
  },
  {
   "cell_type": "markdown",
   "metadata": {
    "slideshow": {
     "slide_type": "slide"
    }
   },
   "source": [
    "## Towards transliteracy\n",
    "- Cross-curricular and across media\n",
    "- Reading, writing, speaking, listening, viewing, and representing\n",
    "- Numeracy, including math processes (communication, connections, reasoning, technology, visualization...)\n",
    "- Participation in society through the construction and sharing of knowledge\n",
    "- Complex and continuously evolving"
   ]
  },
  {
   "cell_type": "code",
   "execution_count": 3,
   "metadata": {
    "slideshow": {
     "slide_type": "skip"
    }
   },
   "outputs": [
    {
     "ename": "ModuleNotFoundError",
     "evalue": "No module named 'plotly_express'",
     "output_type": "error",
     "traceback": [
      "\u001b[0;31m---------------------------------------------------------------------------\u001b[0m",
      "\u001b[0;31mModuleNotFoundError\u001b[0m                       Traceback (most recent call last)",
      "\u001b[0;32m<ipython-input-3-45164ed06b19>\u001b[0m in \u001b[0;36m<module>\u001b[0;34m\u001b[0m\n\u001b[1;32m      1\u001b[0m \u001b[0;31m# Import Python libraries\u001b[0m\u001b[0;34m\u001b[0m\u001b[0;34m\u001b[0m\u001b[0;34m\u001b[0m\u001b[0m\n\u001b[1;32m      2\u001b[0m \u001b[0;32mimport\u001b[0m \u001b[0mpandas\u001b[0m \u001b[0;32mas\u001b[0m \u001b[0mpd\u001b[0m\u001b[0;34m\u001b[0m\u001b[0;34m\u001b[0m\u001b[0m\n\u001b[0;32m----> 3\u001b[0;31m \u001b[0;32mimport\u001b[0m \u001b[0mplotly_express\u001b[0m \u001b[0;32mas\u001b[0m \u001b[0mpx\u001b[0m\u001b[0;34m\u001b[0m\u001b[0;34m\u001b[0m\u001b[0m\n\u001b[0m\u001b[1;32m      4\u001b[0m \u001b[0;32mimport\u001b[0m \u001b[0mmatplotlib\u001b[0m\u001b[0;34m.\u001b[0m\u001b[0mpyplot\u001b[0m \u001b[0;32mas\u001b[0m \u001b[0mplt\u001b[0m\u001b[0;34m\u001b[0m\u001b[0;34m\u001b[0m\u001b[0m\n\u001b[1;32m      5\u001b[0m \u001b[0;32mimport\u001b[0m \u001b[0mmatplotlib\u001b[0m\u001b[0;34m.\u001b[0m\u001b[0manimation\u001b[0m \u001b[0;32mas\u001b[0m \u001b[0manimation\u001b[0m\u001b[0;34m\u001b[0m\u001b[0;34m\u001b[0m\u001b[0m\n",
      "\u001b[0;31mModuleNotFoundError\u001b[0m: No module named 'plotly_express'"
     ]
    }
   ],
   "source": [
    "# Import Python libraries\n",
    "import pandas as pd\n",
    "import plotly_express as px\n",
    "import matplotlib.pyplot as plt\n",
    "import matplotlib.animation as animation\n",
    "from ipywidgets import interact, fixed, widgets, Layout, Button, Box, fixed, HBox, VBox\n",
    "from IPython.display import clear_output\n",
    "from IPython.display import HTML\n",
    "\n",
    "# Don't show warnings in output\n",
    "import warnings\n",
    "warnings.filterwarnings('ignore')\n",
    "\n",
    "# Import the dataset\n",
    "df = pd.read_csv('./data/share-of-individuals-using-the-internet.csv')\n",
    "\n",
    "# Data clean up - consider the data between 2001 and 2016\n",
    "df=df[df['Year'] > 2000][df['Year'] < 2017]\n",
    "\n",
    "# Plot an animated choropleth map\n",
    "\n",
    "fig = px.choropleth(df,   # dataframe with required data \n",
    "                    locations=\"Code\",   # Column containing country codes\n",
    "                    color=\"Internet Access<br>(% of population)\",   # Color of country should be based on internet access\n",
    "                    hover_name=\"Entity\",   # Title to add to hover information\n",
    "                    hover_data=['Internet Access<br>(% of population)'],   # Data to add to hover information\n",
    "                    color_continuous_scale=px.colors.sequential.Oranges,   # Set the colorscale type\n",
    "                    animation_frame = \"Year\",   # Values based on which animation frame will be prepared\n",
    "                    range_color = [0,100],   # Range of the colorbar\n",
    "                    \n",
    "                    # Title of the chart\n",
    "                    title = '\"Worldwide\" increase in internet access<br>\\\n",
    "Data Source: <a href=\"https://ourworldindata.org/internet\">Our World in Data</a>'\n",
    "                   )"
   ]
  },
  {
   "cell_type": "code",
   "execution_count": null,
   "metadata": {
    "scrolled": true,
    "slideshow": {
     "slide_type": "subslide"
    }
   },
   "outputs": [],
   "source": [
    "fig.show()"
   ]
  },
  {
   "cell_type": "code",
   "execution_count": null,
   "metadata": {
    "slideshow": {
     "slide_type": "subslide"
    }
   },
   "outputs": [],
   "source": [
    "%%html\n",
    "<!--6.5 million views in a week--><h2>The internet: Social media and datification<br> Minecraft: Did Dream fake his speedrun?</h2><br><iframe width=\"600\" height=\"355\" src=\"https://www.youtube.com/embed/1iqpSrNVjYQ?player.setVolume(5)&start=85&end=133\" frameborder=\"0\" allow=\"accelerometer; autoplay; clipboard-write; encrypted-media; gyroscope; picture-in-picture\" allowfullscreen></iframe><b"
   ]
  },
  {
   "cell_type": "markdown",
   "metadata": {
    "slideshow": {
     "slide_type": "slide"
    }
   },
   "source": [
    "<center><img src='./images/data_literacy.png' alt='data literacy' width='85%' /></center>"
   ]
  },
  {
   "cell_type": "markdown",
   "metadata": {
    "slideshow": {
     "slide_type": "subslide"
    }
   },
   "source": [
    "## Professional analytics: UEFA Champions League \n",
    "## \n",
    "|Event data (Atletico Madrid)|Tracking data (Lyon vs Nice)|\n",
    "|:-|:-|\n",
    "|<img src='./images/event_coding.jpg' width='500' />|<img src='./images/tracking.png' width='300' />|\n",
    "|<a href='https://github.com/Friends-of-Tracking-Data-FoTD/mapping-match-events-in-Python'>Image source: Friends of Tracking GitHub</a>|<a href='https://youtu.be/N9qZ-I63BL8?t=540'>Image source: Friends of Tracking YouTube</a>|"
   ]
  },
  {
   "cell_type": "markdown",
   "metadata": {
    "slideshow": {
     "slide_type": "subslide"
    }
   },
   "source": [
    "## UEFA Champions League analytics\n",
    "## \n",
    "|Event data (S.S.C. Napoli) |Tracking data (Liverpool F.C.) |\n",
    "|:-|:-|\n",
    "|<img src='./images/passing_network.png' width='450' />|<img src='./images/pressing.png' width='400' />|\n",
    "|<a href='https://youtu.be/ZXEHPKmx410?t=891'>Image source: Friends of Tracking YouTube</a>|<a href='https://youtu.be/N9qZ-I63BL8?t=2124'>Image source: Friends of Tracking YouTube</a>|"
   ]
  },
  {
   "cell_type": "code",
   "execution_count": null,
   "metadata": {
    "slideshow": {
     "slide_type": "subslide"
    }
   },
   "outputs": [],
   "source": [
    "%%html\n",
    "<h2>Bridging expert to novice</h2><br><iframe width=\"1024\" height=\"450\" src=\"https://www.callysto.ca/2020/11/20/data-visualization-of-the-week-popular-video-games/\" frameborder=\"0\" allowfullscreen></iframe>"
   ]
  },
  {
   "cell_type": "markdown",
   "metadata": {
    "slideshow": {
     "slide_type": "subslide"
    }
   },
   "source": [
    "## Data visualization learning progression\n",
    "<img src='./images/creating_scaffolding.png' alt='scaffolding' width='95%' />\n",
    "<a href='https://tinyurl.com/yy3umbrz'>Pets on Mars</a>"
   ]
  },
  {
   "cell_type": "markdown",
   "metadata": {
    "slideshow": {
     "slide_type": "subslide"
    }
   },
   "source": [
    "## Data visualization learning progression\n",
    "<img src='./images/creating_adapting.png' alt='adapting' width='95%' />"
   ]
  },
  {
   "cell_type": "markdown",
   "metadata": {
    "slideshow": {
     "slide_type": "subslide"
    }
   },
   "source": [
    "## Data gathering learning progression\n",
    "<center><img src='./images/gathering.png' alt='gathering' width='85%' /></center>\n",
    "Source: <a href='http://oceansofdata.org/sites/oceansofdata.org/files/pervasive-and-persistent-understandings-01-14.pdf'>Pervasive and Persistent Understandings about Data</a> (2014); Data source:<a href='https://www.kaggle.com/dorbicycle/world-foodfeed-production'> Worldwide food\\feed production and distribution</a>"
   ]
  },
  {
   "cell_type": "markdown",
   "metadata": {
    "slideshow": {
     "slide_type": "slide"
    }
   },
   "source": [
    "## Authentic learning approach\n",
    "\n",
    "- Learning design based on interdisciplinary<br>\n",
    "connections and real-world scenarios\n",
    "- Industry-aligned data science analysis process\n",
    "- Python, an all-purpose programming language\n",
    "- Jupyter notebook, a free industry-standard tool for data scientists\n",
    "- CallystoHub, free cloud computing"
   ]
  },
  {
   "cell_type": "markdown",
   "metadata": {
    "slideshow": {
     "slide_type": "subslide"
    }
   },
   "source": [
    "## Learning design and athlete development\n",
    "\n",
    "### U15 training to train\n",
    "- Promotes tactical strategies for in-game decision making, reading the situation and inferring \n",
    "- Focuses on the team and the process\n",
    "- Situates personal goals within team approach\n",
    "\n",
    "<center><img src='./images/ltad.jpg' alt='ltdp' width='45%' /></center>\n",
    "<a href='https://www.basketballmanitoba.ca/'>Image Source</a>"
   ]
  },
  {
   "cell_type": "markdown",
   "metadata": {
    "slideshow": {
     "slide_type": "subslide"
    }
   },
   "source": [
    "## Learning design and U15 sports analytics\n",
    "\n",
    "Online communication,<br>\n",
    "sometimes through shared video analysis spaces\n",
    "\n",
    "Video replay during games and training\n",
    "\n",
    "Post–game video analysis, limitted statistics\n",
    "\n",
    "Towards triangulation of data through sources,<br>combining visual-spatial and statistical reasoning"
   ]
  },
  {
   "cell_type": "markdown",
   "metadata": {
    "slideshow": {
     "slide_type": "subslide"
    }
   },
   "source": [
    "## Learning design and flexibility\n",
    "<br>\n",
    "<img src='./images/flexibility.png' alt='adapting' width='90%' />"
   ]
  },
  {
   "cell_type": "markdown",
   "metadata": {
    "slideshow": {
     "slide_type": "subslide"
    }
   },
   "source": [
    "## Tiered scenarios\n",
    "1. Input professionally collected data<br> to create graphs with Python (soccer)\n",
    "2. Import a csv file to create shot maps (hockey)\n",
    "\n",
    "Data science analysis process\n",
    "- Gather data from video to make decisions (field hockey)"
   ]
  },
  {
   "cell_type": "markdown",
   "metadata": {
    "slideshow": {
     "slide_type": "slide"
    }
   },
   "source": [
    "## Inputting UEFA Champions League data<br> to create graphs with Python"
   ]
  },
  {
   "cell_type": "markdown",
   "metadata": {
    "slideshow": {
     "slide_type": "subslide"
    }
   },
   "source": [
    "## Displaying data using graphs from plotly"
   ]
  },
  {
   "cell_type": "code",
   "execution_count": null,
   "metadata": {
    "scrolled": true,
    "slideshow": {
     "slide_type": "-"
    }
   },
   "outputs": [],
   "source": [
    "%%html\n",
    "<iframe width=\"1024\" height=\"400\" src=\"https://plotly.com/python/\" frameborder=\"0\"</iframe>"
   ]
  },
  {
   "cell_type": "code",
   "execution_count": null,
   "metadata": {
    "scrolled": true,
    "slideshow": {
     "slide_type": "subslide"
    }
   },
   "outputs": [],
   "source": [
    "%%html \n",
    "<h3>🔎 Which techniques lead to goal scoring?</h3><br><iframe width=\"1024\" height=\"250\" src=\"https://www.uefa.com/uefachampionsleague/season=2021/statistics/round=2001252/clubs/kind=goaltypes/index.html\" frameborder=\"0\" ></iframe>"
   ]
  },
  {
   "cell_type": "markdown",
   "metadata": {
    "slideshow": {
     "slide_type": "-"
    }
   },
   "source": [
    "📋<!--Copy data for bar graph of types of goals--> Team: Barcelona\n",
    "x='left foot', 'right foot', 'header', 'other'\n",
    "y=4, 10, 1, 1"
   ]
  },
  {
   "cell_type": "code",
   "execution_count": null,
   "metadata": {
    "scrolled": true,
    "slideshow": {
     "slide_type": "subslide"
    }
   },
   "outputs": [],
   "source": [
    "import plotly.graph_objects as go\n",
    "\n",
    "bar_goal_type = go.Figure([go.Bar\n",
    "                           (x=['left foot', 'right foot', 'header', 'other'], \n",
    "                            y=[4, 10, 1, 1])\n",
    "                          ])\n",
    "bar_goal_type.update_layout(title_text='Barcelona: Type of goal', autosize=False)"
   ]
  },
  {
   "cell_type": "code",
   "execution_count": null,
   "metadata": {
    "scrolled": false,
    "slideshow": {
     "slide_type": "subslide"
    }
   },
   "outputs": [],
   "source": [
    "%%html \n",
    "<h3>🔎 Comparing teams: Do similar techniques lead to goal scoring?</h3><br><iframe width=\"1024\" height=\"250\" src=\"https://www.uefa.com/uefachampionsleague/season=2021/statistics/round=2001252/clubs/kind=goaltypes/index.html\" frameborder=\"0\" ></iframe>"
   ]
  },
  {
   "cell_type": "markdown",
   "metadata": {
    "slideshow": {
     "slide_type": "-"
    }
   },
   "source": [
    "📋<!--Copy data for double bar graph-->\n",
    "x='left foot', 'right foot', 'header', 'other'\n",
    "Team: Barcelona y=4, 10, 1, 1\n",
    "Team: Chelsea y=4, 8, 2, 0"
   ]
  },
  {
   "cell_type": "code",
   "execution_count": null,
   "metadata": {
    "slideshow": {
     "slide_type": "subslide"
    }
   },
   "outputs": [],
   "source": [
    "import plotly.graph_objects as go\n",
    "goal_type=['left foot', 'right foot', 'header', 'other']\n",
    "double_bar_goal_type = go.Figure(data=[\n",
    "    go.Bar(name='Barcelona', x=goal_type, y=[4, 10, 1, 1]),\n",
    "    go.Bar(name='Chelsea', x=goal_type, y=[4, 8, 2, 0])])\n",
    "double_bar_goal_type.update_layout(barmode='group')\n",
    "double_bar_goal_type.update_layout(title_text='Barcelona and Chelsea: Type of goal', autosize=False)"
   ]
  },
  {
   "cell_type": "code",
   "execution_count": null,
   "metadata": {
    "scrolled": false,
    "slideshow": {
     "slide_type": "subslide"
    }
   },
   "outputs": [],
   "source": [
    "%%html\n",
    "<h3>🔎 How do on target goals and unsuccessful goal attempts compare?</h3><br><iframe width=\"1024\" height=\"250\" src=\"https://www.uefa.com/uefachampionsleague/season=2021/statistics/round=2001252/clubs/kind=attempts/index.html\" frameborder=\"0\" ></iframe>"
   ]
  },
  {
   "cell_type": "markdown",
   "metadata": {},
   "source": [
    "📋<!--Copy data for circle graph of goal attempts-->\n",
    "Team: Barcelona\n",
    "labels = 'On target', 'Off target', 'Blocked', 'Against woodwork'\n",
    "values = 48, 38, 22, 4"
   ]
  },
  {
   "cell_type": "code",
   "execution_count": null,
   "metadata": {
    "slideshow": {
     "slide_type": "subslide"
    }
   },
   "outputs": [],
   "source": [
    "import plotly.graph_objects as go\n",
    "labels = ['On target', 'Off target', 'Blocked', 'Against woodwork']\n",
    "values = [48, 38, 22, 4]\n",
    "circle_goal_types = go.Figure(data=[go.Pie(labels=labels, values=values)])\n",
    "circle_goal_types.update_layout(title_text='Barcelona: Goal attempts')"
   ]
  },
  {
   "cell_type": "markdown",
   "metadata": {
    "slideshow": {
     "slide_type": "slide"
    }
   },
   "source": [
    "## Importing IIHF World Junior Championship data<br> to create graphs and a shot map"
   ]
  },
  {
   "cell_type": "code",
   "execution_count": null,
   "metadata": {
    "scrolled": true,
    "slideshow": {
     "slide_type": "subslide"
    }
   },
   "outputs": [],
   "source": [
    "%%html \n",
    "<h2>Professionally collected goal data</h2><br> \n",
    "<iframe title=\"vimeo-player\" src=\"https://player.vimeo.com/video/495657166?&muted=1&#t=0m50s\" width=\"640\" height=\"360\" frameborder=\"0\" allowfullscreen></iframe>"
   ]
  },
  {
   "cell_type": "markdown",
   "metadata": {
    "slideshow": {
     "slide_type": "subslide"
    }
   },
   "source": [
    "## Defining ice hockey net zones:<br> What factors can lead to scoring?\n",
    "\n",
    "||||\n",
    "|-|-|-|\n",
    "|<img src='./images/hockey_net_zones.png' width='100%'/>|<img src='./images/goalie.jpg' />|<img src='./images/goalie2.jpg' /> |\n",
    "|  |<a href='https://www.tsn.ca/joel-hofer-expected-to-start-as-team-canada-eyes-top-spot-in-group-b-at-world-junior-championship-1.1420512'>Image source</a>|<a href='https://www.hockeycanada.ca/en-ca/news/34-goaltenders-invited-to-2014-poe-camp'>Image source</a>  |"
   ]
  },
  {
   "cell_type": "code",
   "execution_count": null,
   "metadata": {
    "scrolled": true,
    "slideshow": {
     "slide_type": "subslide"
    }
   },
   "outputs": [],
   "source": [
    "%%html \n",
    "<h2>Data source: Shot charts</h2><br>\n",
    "<iframe width=\"850\" height=\"400\" src=\"https://www.iihf.com/pdf/503/ihm503a13_77a_3_0\" frameborder=\"0\" ></iframe>"
   ]
  },
  {
   "cell_type": "markdown",
   "metadata": {
    "slideshow": {
     "slide_type": "subslide"
    }
   },
   "source": [
    "## Generating a csv file\n",
    "\n",
    "Net_Zone,Austria,Canada,Czech_Republic,Finland,Germany,Russia,Switzerland,Slovakia,Sweden,USA,Total<br>\n",
    "1,0,7,0,3,2,0,0,0,3,3,18<br>\n",
    "2,0,1,1,0,1,0,0,0,0,0,3<br>\n",
    "3,0,5,0,2,2,4,1,0,3,6,23<br>\n",
    "4,0,4,3,2,1,1,0,1,0,3,15<br>\n",
    "5,0,1,0,2,1,0,0,0,0,0,4<br>\n",
    "6,1,1,2,4,0,2,0,1,0,2,13<br>\n",
    "7,0,6,0,1,3,3,1,1,0,9,24<br>\n",
    "8,0,5,1,2,2,3,1,2,3,2,21<br>\n",
    "9,0,3,3,0,2,3,2,0,5,0,18<br>"
   ]
  },
  {
   "cell_type": "markdown",
   "metadata": {
    "slideshow": {
     "slide_type": "subslide"
    }
   },
   "source": [
    "## Importing the dataframe with pandas "
   ]
  },
  {
   "cell_type": "code",
   "execution_count": null,
   "metadata": {},
   "outputs": [],
   "source": [
    "%%html\n",
    "<iframe width=\"900\" height=\"400\" src=\"https://pandas.pydata.org/Pandas_Cheat_Sheet.pdf\" frameborder=\"0\"</iframe>"
   ]
  },
  {
   "cell_type": "code",
   "execution_count": null,
   "metadata": {
    "scrolled": true,
    "slideshow": {
     "slide_type": "subslide"
    }
   },
   "outputs": [],
   "source": [
    "import pandas as pd\n",
    "from pandas import read_csv\n",
    "hockey_goals_df = pd.read_csv('./data/hockey_goals.csv')\n",
    "hockey_goals_df.head(9)"
   ]
  },
  {
   "cell_type": "markdown",
   "metadata": {
    "slideshow": {
     "slide_type": "subslide"
    }
   },
   "source": [
    "## Which measure of central tendency best represents the total goals per net zone?"
   ]
  },
  {
   "cell_type": "code",
   "execution_count": null,
   "metadata": {
    "slideshow": {
     "slide_type": "-"
    }
   },
   "outputs": [],
   "source": [
    "hockey_goals_df['Total'].sum()"
   ]
  },
  {
   "cell_type": "code",
   "execution_count": null,
   "metadata": {
    "slideshow": {
     "slide_type": "-"
    }
   },
   "outputs": [],
   "source": [
    "hockey_goals_df['Total'].min()"
   ]
  },
  {
   "cell_type": "code",
   "execution_count": null,
   "metadata": {},
   "outputs": [],
   "source": [
    "hockey_goals_df['Total'].max()"
   ]
  },
  {
   "cell_type": "code",
   "execution_count": null,
   "metadata": {
    "slideshow": {
     "slide_type": "fragment"
    }
   },
   "outputs": [],
   "source": [
    "hockey_goals_df['Total'].mean()"
   ]
  },
  {
   "cell_type": "code",
   "execution_count": null,
   "metadata": {},
   "outputs": [],
   "source": [
    "hockey_goals_df['Total'].median()"
   ]
  },
  {
   "cell_type": "code",
   "execution_count": null,
   "metadata": {},
   "outputs": [],
   "source": [
    "hockey_goals_df['Total'].mode()"
   ]
  },
  {
   "cell_type": "markdown",
   "metadata": {
    "slideshow": {
     "slide_type": "subslide"
    }
   },
   "source": [
    "## Which net zones score above the median? "
   ]
  },
  {
   "cell_type": "code",
   "execution_count": null,
   "metadata": {},
   "outputs": [],
   "source": [
    "hockey_goals_df['Total'].median()"
   ]
  },
  {
   "cell_type": "code",
   "execution_count": null,
   "metadata": {
    "scrolled": false
   },
   "outputs": [],
   "source": [
    "hockey_goals_df.sort_values('Total', ascending=False)"
   ]
  },
  {
   "cell_type": "code",
   "execution_count": null,
   "metadata": {
    "scrolled": false,
    "slideshow": {
     "slide_type": "subslide"
    }
   },
   "outputs": [],
   "source": [
    "import plotly.express as px\n",
    "bar_hockey_goals_df = px.bar(hockey_goals_df,\n",
    "           x=\"Zone\", \n",
    "           y=\"Total\", \n",
    "           title=\"Goals by net zone\")\n",
    "bar_hockey_goals_df.update_layout(title_text='Barcelona: Type of goal', autosize=False)"
   ]
  },
  {
   "cell_type": "code",
   "execution_count": null,
   "metadata": {
    "slideshow": {
     "slide_type": "subslide"
    }
   },
   "outputs": [],
   "source": [
    "import pandas as pd\n",
    "from pandas import read_csv\n",
    "hockey_goals_df = pd.read_csv('./data/hockey_goals.csv') \n",
    "hockey_goals_df.Total"
   ]
  },
  {
   "cell_type": "markdown",
   "metadata": {
    "slideshow": {
     "slide_type": "-"
    }
   },
   "source": [
    "📋 Copy data for heat map of net zones of total championship goals\n",
    "18, 3, 23\n",
    "15, 4, 13\n",
    "24, 21, 18"
   ]
  },
  {
   "cell_type": "markdown",
   "metadata": {
    "slideshow": {
     "slide_type": "subslide"
    }
   },
   "source": [
    "### 🔎 What connections may exist between goalie position and scoring?"
   ]
  },
  {
   "cell_type": "code",
   "execution_count": null,
   "metadata": {
    "slideshow": {
     "slide_type": "-"
    }
   },
   "outputs": [],
   "source": [
    "import plotly.express as px\n",
    "\n",
    "map_hockey_goals_df = px.imshow([\n",
    "                 [18, 3, 23],\n",
    "                 [15, 4, 13],\n",
    "                 [24, 21, 18]])\n",
    "\n",
    "axis_template = dict(\n",
    "             showticklabels = False,\n",
    "             )\n",
    "\n",
    "map_hockey_goals_df.update_layout(\n",
    "    xaxis = axis_template,\n",
    "    yaxis = axis_template, \n",
    "    title=\"2021 World Junior Championship goals by net zone\")\n",
    "\n",
    "map_hockey_goals_df.show()"
   ]
  },
  {
   "cell_type": "code",
   "execution_count": null,
   "metadata": {
    "slideshow": {
     "slide_type": "subslide"
    }
   },
   "outputs": [],
   "source": [
    "map_hockey_goals_df.update_layout(autosize=False, width=600, height=400)"
   ]
  },
  {
   "cell_type": "markdown",
   "metadata": {
    "slideshow": {
     "slide_type": "subslide"
    }
   },
   "source": [
    "### Exploring Canada's scoring on net zones "
   ]
  },
  {
   "cell_type": "code",
   "execution_count": null,
   "metadata": {},
   "outputs": [],
   "source": [
    "hockey_goals_df.sort_values('Canada', ascending=False)"
   ]
  },
  {
   "cell_type": "code",
   "execution_count": null,
   "metadata": {
    "slideshow": {
     "slide_type": "subslide"
    }
   },
   "outputs": [],
   "source": [
    "bar_canada_goals_df = px.bar(hockey_goals_df,\n",
    "           x=\"Zone\", \n",
    "           y=\"Canada\",\n",
    "           title=\"Canada's goals by net zone\")\n",
    "bar_canada_goals_df.show()"
   ]
  },
  {
   "cell_type": "code",
   "execution_count": null,
   "metadata": {
    "slideshow": {
     "slide_type": "subslide"
    }
   },
   "outputs": [],
   "source": [
    " hockey_goals_df.Canada"
   ]
  },
  {
   "cell_type": "markdown",
   "metadata": {
    "slideshow": {
     "slide_type": "-"
    }
   },
   "source": [
    "📋 Copy data for heat map of net zones of Canada's goals\n",
    "7, 1, 5\n",
    "4, 1, 1\n",
    "6, 5, 3"
   ]
  },
  {
   "cell_type": "markdown",
   "metadata": {
    "slideshow": {
     "slide_type": "subslide"
    }
   },
   "source": [
    "### 🔎 What connections may exist between goalie position and scoring?"
   ]
  },
  {
   "cell_type": "code",
   "execution_count": null,
   "metadata": {
    "slideshow": {
     "slide_type": "-"
    }
   },
   "outputs": [],
   "source": [
    "map_canada_goals_df = px.imshow([\n",
    "                 [7, 1, 5],\n",
    "                 [4, 1, 1],\n",
    "                 [6, 5, 3]])\n",
    "\n",
    "axis_template = dict(\n",
    "             showticklabels = False,\n",
    "             )\n",
    "\n",
    "map_canada_goals_df.update_layout(\n",
    "    xaxis = axis_template,\n",
    "    yaxis = axis_template,  \n",
    "    title=\"Canada's goals by net zone\")\n",
    "\n",
    "map_canada_goals_df.show()"
   ]
  },
  {
   "cell_type": "code",
   "execution_count": null,
   "metadata": {
    "slideshow": {
     "slide_type": "subslide"
    }
   },
   "outputs": [],
   "source": [
    "map_hockey_goals_df.update_layout(autosize=False, width=600, height=400)"
   ]
  },
  {
   "cell_type": "markdown",
   "metadata": {
    "slideshow": {
     "slide_type": "slide"
    }
   },
   "source": [
    "## Analyzing field hockey data to make decisions"
   ]
  },
  {
   "cell_type": "markdown",
   "metadata": {
    "slideshow": {
     "slide_type": "subslide"
    }
   },
   "source": [
    "<center><img src='./images/learning_cycle1.png' alt=\"Learning design and context\" width='90%' /></center>"
   ]
  },
  {
   "cell_type": "markdown",
   "metadata": {
    "slideshow": {
     "slide_type": "subslide"
    }
   },
   "source": [
    "<center><img src='./images/learning_cycle5.png' alt=\"Learning cycle\" width='90%' /></center>"
   ]
  },
  {
   "cell_type": "markdown",
   "metadata": {
    "slideshow": {
     "slide_type": "subslide"
    }
   },
   "source": [
    "<center><img src='./images/computational_thinking.png' alt=\"Computationl thinking\" width='90%' /></center>"
   ]
  },
  {
   "cell_type": "markdown",
   "metadata": {
    "slideshow": {
     "slide_type": "subslide"
    }
   },
   "source": [
    "<center><img src='./images/analysis_process.png' alt=\"Data science analysis process\" width='90%' /></center>"
   ]
  },
  {
   "cell_type": "markdown",
   "metadata": {
    "slideshow": {
     "slide_type": "skip"
    }
   },
   "source": [
    "<center><img src='./images/decision_knowledge.png' alt=\"Decisions and knowledge construction\" width='90%' /></center>"
   ]
  },
  {
   "cell_type": "markdown",
   "metadata": {
    "slideshow": {
     "slide_type": "skip"
    }
   },
   "source": [
    "<center><img src='./images/balancing_models.png' alt=\"Balancing models\" width='90%' /></center>\n",
    "Image sources: \n",
    "<a href='https://www.adobomagazine.com/global-news/film-yard-releases-footeuses-a-documentary-celebrating-womens-football-an-ode-to-their-fierceness-and-dedication/'Soccer'>Soccer</a>, <a href='https://www.bbc.com/news/world-asia-50252393'>Rugby</a>, <a href ='https://www.theguardian.pe.ca/sports/hockey/sun-youth-court-star-wilguens-exacte-jr-16-lands-us-scholarship-471203/'>Basketball</a>"
   ]
  },
  {
   "cell_type": "markdown",
   "metadata": {
    "slideshow": {
     "slide_type": "slide"
    }
   },
   "source": [
    "<center><img src='./images/field_hockey_game.png' alt=\"Field hockey\" width='90%' /></center>"
   ]
  },
  {
   "cell_type": "markdown",
   "metadata": {
    "slideshow": {
     "slide_type": "subslide"
    }
   },
   "source": [
    "<center><img src='./images/understand1.png' alt=\"Understand actions\" width='90%' /></center>"
   ]
  },
  {
   "cell_type": "markdown",
   "metadata": {
    "slideshow": {
     "slide_type": "subslide"
    }
   },
   "source": [
    "<center><img src='./images/understand.png' alt=\"Understand viewpoints\" width='90%' /></center>"
   ]
  },
  {
   "cell_type": "code",
   "execution_count": null,
   "metadata": {
    "slideshow": {
     "slide_type": "skip"
    }
   },
   "outputs": [],
   "source": [
    "%%html\n",
    "<h2>Circle entries</h2><br><iframe width=\"600\" height=\"355\" src=\"https://www.youtube.com/embed/QbZkht_sj6I?player.setVolume(0)&start=345&end=354\" frameborder=\"0\" allow=\"accelerometer; autoplay; clipboard-write; encrypted-media; gyroscope; picture-in-picture\" allowfullscreen></iframe>"
   ]
  },
  {
   "cell_type": "code",
   "execution_count": null,
   "metadata": {
    "slideshow": {
     "slide_type": "subslide"
    }
   },
   "outputs": [],
   "source": [
    "%%html\n",
    "<h2>Passes recieved</h2><br><iframe width=\"600\" height=\"355\" src=\"https://www.youtube.com/embed/QbZkht_sj6I?player.setVolume(0)&start=2893&end=2910\" frameborder=\"0\" allow=\"accelerometer; autoplay; clipboard-write; encrypted-media; gyroscope; picture-in-picture\" allowfullscreen></iframe>"
   ]
  },
  {
   "cell_type": "code",
   "execution_count": null,
   "metadata": {
    "slideshow": {
     "slide_type": "subslide"
    }
   },
   "outputs": [],
   "source": [
    "%%html\n",
    "<h2>Pass intercepted</h2><br><iframe width=\"600\" height=\"355\" src=\"https://www.youtube.com/embed/QbZkht_sj6I?player.setVolume(0)&start=968&end=979\" frameborder=\"0\" allow=\"accelerometer; autoplay; clipboard-write; encrypted-media; gyroscope; picture-in-picture\" allowfullscreen></iframe>"
   ]
  },
  {
   "cell_type": "markdown",
   "metadata": {
    "slideshow": {
     "slide_type": "subslide"
    }
   },
   "source": [
    "<center><img src='./images/gather1.png' alt=\"Gather\" width='90%' /></center>"
   ]
  },
  {
   "cell_type": "markdown",
   "metadata": {
    "slideshow": {
     "slide_type": "subslide"
    }
   },
   "source": [
    "<center><img src='./images/gather2.png' alt=\"Gather\" width='90%' /></center>"
   ]
  },
  {
   "cell_type": "markdown",
   "metadata": {
    "slideshow": {
     "slide_type": "subslide"
    }
   },
   "source": [
    "<center><img src='./images/gather3.png' alt=\"Gather\" width='90%' /></center>"
   ]
  },
  {
   "cell_type": "markdown",
   "metadata": {
    "slideshow": {
     "slide_type": "subslide"
    }
   },
   "source": [
    "<center><img src='./images/gather4.png' alt=\"Gather\" width='90%' /></center>"
   ]
  },
  {
   "cell_type": "markdown",
   "metadata": {
    "slideshow": {
     "slide_type": "subslide"
    }
   },
   "source": [
    "<center><img src='./images/collection_passing.png' alt=\"Passing\" width='90%' /></center>"
   ]
  },
  {
   "cell_type": "markdown",
   "metadata": {
    "slideshow": {
     "slide_type": "skip"
    }
   },
   "source": [
    "<center><img src='./images/collection_circle_entries.png' alt=\"Circle entries\" width='90%' /></center>"
   ]
  },
  {
   "cell_type": "markdown",
   "metadata": {
    "slideshow": {
     "slide_type": "slide"
    }
   },
   "source": [
    "## 3. Organize"
   ]
  },
  {
   "cell_type": "code",
   "execution_count": null,
   "metadata": {
    "scrolled": true,
    "slideshow": {
     "slide_type": "-"
    }
   },
   "outputs": [],
   "source": [
    "## import some code modules\n",
    "from ipysheet import sheet, cell, cell_range"
   ]
  },
  {
   "cell_type": "code",
   "execution_count": null,
   "metadata": {
    "scrolled": true,
    "slideshow": {
     "slide_type": "-"
    }
   },
   "outputs": [],
   "source": [
    "import plotly.graph_objects as go\n",
    "import plotly.express as px\n",
    "import cufflinks as cf\n",
    "cf.go_offline()\n",
    "import pandas as pd\n",
    "import numpy as np\n",
    "%matplotlib inline"
   ]
  },
  {
   "cell_type": "markdown",
   "metadata": {
    "slideshow": {
     "slide_type": "slide"
    }
   },
   "source": [
    "## 4. Explore: How can the data be analyzed to represent viewpoints?"
   ]
  },
  {
   "cell_type": "markdown",
   "metadata": {
    "slideshow": {
     "slide_type": "-"
    }
   },
   "source": [
    "### 🔎 Attack viewpoint: How does ball possession time affect the outcomes of the game?"
   ]
  },
  {
   "cell_type": "code",
   "execution_count": null,
   "metadata": {
    "scrolled": true,
    "slideshow": {
     "slide_type": "-"
    }
   },
   "outputs": [],
   "source": [
    "possession_time_df = read_csv('data/field_hockey_possession_time.csv')\n",
    "possession_time_df.head(8)"
   ]
  },
  {
   "cell_type": "markdown",
   "metadata": {
    "slideshow": {
     "slide_type": "subslide"
    }
   },
   "source": [
    "The final score of the game was 0 for Home and 1 for Away; however, Home dominated shots on net with 2 shots in the thrid quarter while Away shot once on net in the first quarter and scored. Away dominated ball possession for all four quarters. "
   ]
  },
  {
   "cell_type": "code",
   "execution_count": null,
   "metadata": {
    "scrolled": true,
    "slideshow": {
     "slide_type": "-"
    }
   },
   "outputs": [],
   "source": [
    "bar_possession_time_df = px.bar(possession_time_df,\n",
    "           x=\"Possession Time (seconds)\", \n",
    "           y=\"Quarter\",\n",
    "           title=\"Possession per Quarter\",\n",
    "           color=\"Team\") #add percentage\n",
    "\n",
    "bar_possession_time_df.show()"
   ]
  },
  {
   "cell_type": "code",
   "execution_count": null,
   "metadata": {
    "slideshow": {
     "slide_type": "subslide"
    }
   },
   "outputs": [],
   "source": [
    "### Attack and defensive transition viewpoints: How does passing within lanes change and stay the same over quarters?"
   ]
  },
  {
   "cell_type": "code",
   "execution_count": null,
   "metadata": {
    "slideshow": {
     "slide_type": "-"
    }
   },
   "outputs": [],
   "source": [
    "lanes_home_passes_df = read_csv('data/field_hockey_lanes_home_passes.csv')\n",
    "lanes_home_passes_df.head()"
   ]
  },
  {
   "cell_type": "code",
   "execution_count": null,
   "metadata": {
    "slideshow": {
     "slide_type": "subslide"
    }
   },
   "outputs": [],
   "source": [
    "lanes_home_passes_df[lanes_home_passes_df['Quarter'].isin(['first', 'second'])].sum()"
   ]
  },
  {
   "cell_type": "markdown",
   "metadata": {
    "slideshow": {
     "slide_type": "subslide"
    }
   },
   "source": [
    "For the first half, Home receives the most passes on the outer lanes, especially the left outer lane. During the first quarter home is able to pass into the inner lanes more frequently. While Away intercepts Home in the inner lanes 7 times, Home successfully receives 35 passes."
   ]
  },
  {
   "cell_type": "code",
   "execution_count": null,
   "metadata": {
    "scrolled": true,
    "slideshow": {
     "slide_type": "-"
    }
   },
   "outputs": [],
   "source": [
    "scatter_lanes_home_passes_q12_df = px.scatter(lanes_home_passes_df[lanes_home_passes_df['Quarter'].isin(['first', 'second'])],\n",
    "           x=\"Lane\", \n",
    "           y=\"Quarter\", size=\"Count\",\n",
    "           title=\"Home possession: Passes per lane for first and second quarters (upfield attack)\",\n",
    "           color=\"Action\", size_max=59)\n",
    "\n",
    "scatter_lanes_home_passes_q12_df.show()"
   ]
  },
  {
   "cell_type": "code",
   "execution_count": null,
   "metadata": {
    "slideshow": {
     "slide_type": "subslide"
    }
   },
   "outputs": [],
   "source": [
    "lanes_home_passes_df[lanes_home_passes_df['Quarter'].isin(['third', 'fourth'])].sum()"
   ]
  },
  {
   "cell_type": "markdown",
   "metadata": {
    "slideshow": {
     "slide_type": "subslide"
    }
   },
   "source": [
    "During the second half, Home receives the most passes (n=16) on the right outer lane, which generally is the opponent's strong side. While away intercepts Home in the inner lanes 8 times, Home successfully receives 23 passes."
   ]
  },
  {
   "cell_type": "code",
   "execution_count": null,
   "metadata": {},
   "outputs": [],
   "source": [
    "scatter_lanes_home_passes_q34_df = px.scatter(lanes_home_passes_df[lanes_home_passes_df['Quarter'].isin(['third', 'fourth'])],\n",
    "           x=\"Lane\", \n",
    "           y=\"Quarter\", size=\"Count\",\n",
    "           title=\"Home possession: Passes per lane for third and fourth quarters (downfield attack)\",\n",
    "           color=\"Action\", size_max=59)\n",
    "\n",
    "scatter_lanes_home_passes_q34_df.show()"
   ]
  },
  {
   "cell_type": "markdown",
   "metadata": {
    "slideshow": {
     "slide_type": "subslide"
    }
   },
   "source": [
    "## 5. Interpret: What connections may exist between possession and passing in lanes?\n",
    "\n",
    "|First half|Second half|\n",
    "|:-|:-|\n",
    "|Possession time, 720 seconds|Possession time, 800 seconds|\n",
    "|Total passes 113|Total passes 88|\n",
    "|Inner lanes passes received 35<br>(40% of total passes)|Inner lanes passes received 23<br>(26% of total passes)|\n",
    "|7 intercepts in inner lanes|8 intercepts in inner lanes|"
   ]
  },
  {
   "cell_type": "markdown",
   "metadata": {
    "slideshow": {
     "slide_type": "subslide"
    }
   },
   "source": [
    "- Home shot on net twice during the third quarter, their highest ball possession quarter. \n",
    "- During the second half, Home had more ball possesion; however, Home received fewer passes. This indicates that Home dribbled the ball more second half, making it difficult for Away to challenge them. \n",
    "- The attack style changed supporting decision-making of dribbling as a successful outcome. Video review indicates that home made quick decisions during the second half, so ball keeping was not a clear strategy. \n",
    "- Since dribbling occurred, the visualizations of passing do not fully represent actions within the inner lanes. "
   ]
  },
  {
   "cell_type": "code",
   "execution_count": null,
   "metadata": {},
   "outputs": [],
   "source": [
    " 23/88"
   ]
  },
  {
   "cell_type": "markdown",
   "metadata": {
    "slideshow": {
     "slide_type": "subslide"
    }
   },
   "source": [
    "## 4. Explore: How can heat maps represent the attack viewpoint?"
   ]
  },
  {
   "cell_type": "code",
   "execution_count": null,
   "metadata": {
    "scrolled": false,
    "slideshow": {
     "slide_type": "-"
    }
   },
   "outputs": [],
   "source": [
    "df_passes = pd.read_csv('data/field_hockey_home_passes.csv'); df_passes"
   ]
  },
  {
   "cell_type": "code",
   "execution_count": null,
   "metadata": {
    "slideshow": {
     "slide_type": "skip"
    }
   },
   "outputs": [],
   "source": [
    "# set these for number of lanes, number of zones\n",
    "nLanes = 5\n",
    "nZones = 4\n",
    "\n",
    "# We need a list of Lanes and Zones. Could be long.\n",
    "LaneList = ['Lane 1','Lane 2','Lane 3','Lane 4','Lane 5','Lane 6','Lane 7','Lane 8']\n",
    "ZoneList = ['Zone 1','Zone 2','Zone 3','Zone 4','Zone 5','Zone 6','Zone 7','Zone 8']\n",
    "\n",
    "# here is the spreadsheet, using ipysheets function\n",
    "\n",
    "spread_sheet_2 = sheet(rows=nZones, columns=nLanes, \\\n",
    "                       column_headers=LaneList[0:nLanes], \\\n",
    "                       row_headers = ZoneList[nZones-1::-1])\n",
    "my_cells_2 = cell_range([[1,1,1,3,1],[2,2,1,3,1],[3,3,1,3,1],[1,2,1,2,3]],row_start=0,col_start=0,numeric_format=\"int\")\n",
    "\n",
    "\n",
    "figure_2 = go.Figure(data=go.Heatmap(\n",
    "          y = ZoneList[0:nZones],\n",
    "          x = LaneList[0:nLanes],\n",
    "          z = list(reversed(my_cells_2.value)),\n",
    "          type = 'heatmap',\n",
    "          colorscale = 'blues',opacity = 1.0))\n",
    "\n",
    "axis_template = dict(range = [0,5], autorange = True,\n",
    "             showgrid = False, zeroline = False,\n",
    "             linecolor = 'black', showticklabels = True,\n",
    "             ticks = 'outside' )\n",
    "\n",
    "figure_2.update_layout(margin = dict(t=0,r=0,b=0,l=250),\n",
    "    xaxis = axis_template,\n",
    "    yaxis = axis_template,\n",
    "    showlegend = False,\n",
    "    width = 640, height = 540, title=\"Field Hockey Zones and Lanes\",\n",
    "    autosize = True )\n",
    "\n",
    "# Add image in the background\n",
    "figure_2.add_layout_image(\n",
    "        dict(\n",
    "            source=\"images/field_hockey_pitch.png\",\n",
    "            xref=\"x\",\n",
    "            yref=\"y\",\n",
    "            x=-0.5,\n",
    "            y=-0.5 +nZones,  #this adjusts the placement of the field image\n",
    "            sizex=5,\n",
    "            sizey=4,\n",
    "            sizing=\"fill\",\n",
    "            opacity=0.7,\n",
    "            layer=\"above\")\n",
    ")\n",
    "\n",
    "# changes in my_cells should trigger this function\n",
    "def calculate_2(change):\n",
    "    figure_2.update_traces(z=list(reversed(my_cells_2.value)))\n",
    "    \n",
    "my_cells_2.observe(calculate_2, 'value')"
   ]
  },
  {
   "cell_type": "code",
   "execution_count": null,
   "metadata": {
    "slideshow": {
     "slide_type": "subslide"
    }
   },
   "outputs": [],
   "source": [
    "### Lanes, zones, and circles"
   ]
  },
  {
   "cell_type": "code",
   "execution_count": null,
   "metadata": {
    "slideshow": {
     "slide_type": "-"
    }
   },
   "outputs": [],
   "source": [
    "figure_2.show()"
   ]
  },
  {
   "cell_type": "code",
   "execution_count": null,
   "metadata": {
    "scrolled": true,
    "slideshow": {
     "slide_type": "skip"
    }
   },
   "outputs": [],
   "source": [
    "from plotly import subplots\n",
    "from plotly.offline import download_plotlyjs, plot,iplot"
   ]
  },
  {
   "cell_type": "code",
   "execution_count": null,
   "metadata": {
    "scrolled": true,
    "slideshow": {
     "slide_type": "skip"
    }
   },
   "outputs": [],
   "source": [
    "df_temp_1 = df_passes.loc[lambda df: (df['Phase of Play'] == 'attack') &(df['Quarter'] == 'first') ];\n",
    "df_temp_2 = df_passes.loc[lambda df: (df['Phase of Play'] == 'attack') &(df['Quarter'] == 'second') ]; \n",
    "df_temp_3 = df_passes.loc[lambda df: (df['Phase of Play'] == 'attack') &(df['Quarter'] == 'third') ]; \n",
    "df_temp_4 = df_passes.loc[lambda df: (df['Phase of Play'] == 'attack') &(df['Quarter'] == 'fourth') ]; "
   ]
  },
  {
   "cell_type": "markdown",
   "metadata": {
    "slideshow": {
     "slide_type": "subslide"
    }
   },
   "source": [
    "### Home attack as passes received per quarter: First and second upfield and third and fourth downfield"
   ]
  },
  {
   "cell_type": "code",
   "execution_count": null,
   "metadata": {
    "scrolled": true,
    "slideshow": {
     "slide_type": "skip"
    }
   },
   "outputs": [],
   "source": [
    "#import plotly.tools as tls\n",
    "fig_all = subplots.make_subplots(rows=1, cols=4)\n",
    "fig_1 = df_temp_1.iplot(kind='heatmap', colorscale='blues', x='Lane', y='Zone', z='Count' , asFigure=True) \n",
    "fig_2 = df_temp_2.iplot(kind='heatmap', colorscale='blues', x='Lane', y='Zone', z='Count' , asFigure=True)\n",
    "fig_3 = df_temp_3.iplot(kind='heatmap', colorscale='blues', x='Lane', y='Zone', z='Count' , asFigure=True)\n",
    "fig_4 = df_temp_4.iplot(kind='heatmap', colorscale='blues', x='Lane', y='Zone', z='Count' , asFigure=True)\n",
    "fig_all.append_trace(fig_1['data'][0], 1, 1)\n",
    "fig_all.append_trace(fig_2['data'][0], 1, 2)\n",
    "fig_all.append_trace(fig_3['data'][0], 1, 3)\n",
    "fig_all.append_trace(fig_4['data'][0], 1, 4)"
   ]
  },
  {
   "cell_type": "code",
   "execution_count": null,
   "metadata": {
    "scrolled": true,
    "slideshow": {
     "slide_type": "-"
    }
   },
   "outputs": [],
   "source": [
    "fig_all.update_xaxes(showticklabels = False, linecolor='black')\n",
    "fig_all.update_yaxes(showticklabels = False, linecolor='black')\n",
    "iplot(fig_all)"
   ]
  },
  {
   "cell_type": "code",
   "execution_count": null,
   "metadata": {
    "scrolled": true,
    "slideshow": {
     "slide_type": "skip"
    }
   },
   "outputs": [],
   "source": [
    "myLayout = cf.Layout(\n",
    "    height=600,\n",
    "    width=350,\n",
    "    xaxis = axis_template,\n",
    "    yaxis = axis_template\n",
    ")\n",
    "\n",
    "axis_template = dict( \n",
    "             showticklabels = False\n",
    "             )"
   ]
  },
  {
   "cell_type": "code",
   "execution_count": null,
   "metadata": {
    "slideshow": {
     "slide_type": "skip"
    }
   },
   "outputs": [],
   "source": [
    "df_temp1 = df_passes.loc[lambda df: (df['Phase of Play'] == 'attack') & (df['Quarter'].isin(['first', 'second'])) ]; df_temp1.head()"
   ]
  },
  {
   "cell_type": "code",
   "execution_count": null,
   "metadata": {
    "slideshow": {
     "slide_type": "skip"
    }
   },
   "outputs": [],
   "source": [
    "df_passes_away = pd.read_csv('data/field_hockey_away_passes.csv'); df_passes_away"
   ]
  },
  {
   "cell_type": "code",
   "execution_count": null,
   "metadata": {
    "scrolled": false,
    "slideshow": {
     "slide_type": "skip"
    }
   },
   "outputs": [],
   "source": [
    "df_temp1_away = df_passes_away.loc[lambda df: (df['Action'] == 'pass intercepted/fouled') & (df['Quarter'].isin(['first', 'second'])) ]; df_temp1_away.head()"
   ]
  },
  {
   "cell_type": "markdown",
   "metadata": {
    "slideshow": {
     "slide_type": "subslide"
    }
   },
   "source": [
    "### Home passes received for upfield attack and passes intercepted/fouled by Away in first half"
   ]
  },
  {
   "cell_type": "code",
   "execution_count": null,
   "metadata": {
    "scrolled": false,
    "slideshow": {
     "slide_type": "skip"
    }
   },
   "outputs": [],
   "source": [
    "fig_all2 = subplots.make_subplots(rows=1, cols=2)\n",
    "df_temp1.iplot(kind='heatmap', colorscale='blues', layout=myLayout, x='Lane', y='Zone', z='Count' , asFigure=True)\n",
    "df_temp1_away.iplot(kind='heatmap', colorscale='blues', layout=myLayout, x='Lane', y='Zone', z='Count' , asFigure=True)\n",
    "fig_all2.append_trace(fig_1['data'][0], 1, 1)\n",
    "fig_all2.append_trace(fig_2['data'][0], 1, 2)"
   ]
  },
  {
   "cell_type": "code",
   "execution_count": null,
   "metadata": {
    "scrolled": false,
    "slideshow": {
     "slide_type": "-"
    }
   },
   "outputs": [],
   "source": [
    "fig_all2.update_xaxes(showticklabels = False, linecolor='black',)\n",
    "fig_all2.update_yaxes(showticklabels = False, linecolor='black')\n",
    "iplot(fig_all2)"
   ]
  },
  {
   "cell_type": "code",
   "execution_count": null,
   "metadata": {
    "slideshow": {
     "slide_type": "-"
    }
   },
   "outputs": [],
   "source": [
    "### Home passes received for downfield attack and passes intercepted/fouled by Away in second half"
   ]
  },
  {
   "cell_type": "code",
   "execution_count": null,
   "metadata": {
    "scrolled": true,
    "slideshow": {
     "slide_type": "skip"
    }
   },
   "outputs": [],
   "source": [
    "df_temp3 = df_passes.loc[lambda df: (df['Phase of Play'] == 'attack') & (df['Quarter'].isin(['third', 'fourth'])) ]; df_temp3.head()"
   ]
  },
  {
   "cell_type": "code",
   "execution_count": null,
   "metadata": {
    "slideshow": {
     "slide_type": "skip"
    }
   },
   "outputs": [],
   "source": [
    "df_temp3_away = df_passes_away.loc[lambda df: (df['Action'] == 'pass intercepted/fouled') & (df['Quarter'].isin(['third', 'fourth'])) ]; df_temp3_away.head()"
   ]
  },
  {
   "cell_type": "code",
   "execution_count": null,
   "metadata": {
    "scrolled": true,
    "slideshow": {
     "slide_type": "skip"
    }
   },
   "outputs": [],
   "source": [
    "fig_all3 = subplots.make_subplots(rows=1, cols=2)\n",
    "df_temp3.iplot(kind='heatmap', colorscale='blues', layout=myLayout, x='Lane', y='Zone', z='Count' , asFigure=True)\n",
    "df_temp3_away.iplot(kind='heatmap', colorscale='blues', layout=myLayout, x='Lane', y='Zone', z='Count' , asFigure=True)\n",
    "fig_all3.append_trace(fig_1['data'][0], 1, 1)\n",
    "fig_all3.append_trace(fig_2['data'][0], 1, 2)"
   ]
  },
  {
   "cell_type": "code",
   "execution_count": null,
   "metadata": {
    "slideshow": {
     "slide_type": "-"
    }
   },
   "outputs": [],
   "source": [
    "fig_all3.update_xaxes(showticklabels = False, linecolor='black',)\n",
    "fig_all3.update_yaxes(showticklabels = False, linecolor='black')\n",
    "iplot(fig_all3)"
   ]
  },
  {
   "cell_type": "markdown",
   "metadata": {
    "slideshow": {
     "slide_type": "subslide"
    }
   },
   "source": [
    "## 5. Interpret<br> How can the data exploration inform decision making?\n",
    "\n",
    "- Look at all those zeros -- no passes, or few passes near one goal\n",
    "- High passes near the other goal \n",
    "\n",
    "Ball movement, blocks (pass intercepted), space\n",
    "High chance of completing a pass to low chance, \n",
    "Decision making...\n",
    "\n"
   ]
  },
  {
   "cell_type": "markdown",
   "metadata": {
    "slideshow": {
     "slide_type": "slide"
    }
   },
   "source": [
    "## Notes on the technology\n",
    "\n",
    "- Created on the **Callysto.ca** technology \n",
    "- Callysto is all free, all open source, aimed at teachers and students\n",
    "- Software libraries include:\n",
    "    - Pandas for data analysis\n",
    "    - Ipysheet for spread sheets\n",
    "    - Plotly and Cufflinks for graphics\n",
    "    - Numpy for numerical routines"
   ]
  },
  {
   "cell_type": "markdown",
   "metadata": {
    "slideshow": {
     "slide_type": "slide"
    }
   },
   "source": [
    "## Using Callysto sports resources\n",
    "\n",
    "<a href=\"https://app.lucidchart.com/documents/view/8e3186f7-bdfe-46af-9c7f-9c426b80d083\">Connecting data literacy and sports</a>\n",
    "\n",
    "Sports notebooks on CallystoHub"
   ]
  },
  {
   "cell_type": "markdown",
   "metadata": {
    "slideshow": {
     "slide_type": "slide"
    }
   },
   "source": [
    "- <a href=\"https://us19.list-manage.com/survey?u=3a7de3527a6c40f3824010da7&id=d81b0860cf\">Feedback form</a>\n",
    "- <a href=\"https://www.callysto.ca/starter-kit/\">Callysto starter kit</a>\n",
    "- <a href=\"https://courses.callysto.ca\">courses.callysto.ca</a>\n",
    "- <a href=\"https://www.callysto.ca/weekly-data-visualization/\">Weekly data visualizations</a>\n",
    "\n",
    "<p><center>Contact us at <a href=\"mailto:contact@callysto.ca\">contact@callysto.ca</a><br>\n",
    "for in-class workshops, virtual hackathons...<br>\n",
    "    <a href=\"https://twitter.com/callysto_canada\">@callysto_canada</a><br>\n",
    "    <a href=\"https://callysto.ca\">callysto.ca</a><br>\n",
    "    <a href=\"https://www.youtube.com/channel/UCPdq1SYKA42EZBvUlNQUAng\">YouTube</a>\n",
    "</center></p>"
   ]
  },
  {
   "cell_type": "markdown",
   "metadata": {
    "slideshow": {
     "slide_type": "slide"
    }
   },
   "source": [
    "<center><img src='./images/callysto_logo.png' alt=\"Callysto logo\" width='80%' /></center>\n",
    "<center><img src='./images/callysto_partners2.png' alt='Callysto partners' width='80%' /></center>"
   ]
  },
  {
   "cell_type": "markdown",
   "metadata": {
    "slideshow": {
     "slide_type": "skip"
    }
   },
   "source": [
    "Add Hadwin, Winne\n",
    "\n",
    "Berikan, B., & Özdemir, S. (2020). Investigating “Problem-Solving With Datasets” as an Implementation of Computational Thinking: A Literature Review. Journal of Educational Computing Research, 58(2), 502–534. https://doi.org/10.1177/0735633119845694\n",
    "\n",
    "Gadanidis, G. (2020, September 2). Shifting from Computational Thinking to Computational Modelling in Math Education [Online plenary talk]. Changing the Culture 2020, Pacific Institute for the Mathematical Sciences.\n",
    "\n",
    "Guadalupe, Tobias & Gómez-Blancarte, Ana. (2019). Assessment of Informal and Formal Inferential Reasoning: A Critical Research Review. Statistics Education Research Journal, 18, 8-25. https://www.researchgate.net/publication/335057564_ASSESSMENT_OF_INFORMAL_AND_FORMAL_INFERENTIAL_REASONING_A_CRITICAL_RESEARCH_REVIEW\n",
    "\n",
    "\n",
    "Field Hockey Alberta Tactical Seminars and Field Hockey Canada Ahead of the Game Webinar Series\n",
    "\n",
    "Borromeo Ferri (2006) and Ontario math model (2020)\n",
    "\n",
    "USA Hockey Goaltender Basics https://www.usahockeygoaltending.com/page/show/890039-stance"
   ]
  }
 ],
 "metadata": {
  "celltoolbar": "Slideshow",
  "kernelspec": {
   "display_name": "Python 3",
   "language": "python",
   "name": "python3"
  },
  "language_info": {
   "codemirror_mode": {
    "name": "ipython",
    "version": 3
   },
   "file_extension": ".py",
   "mimetype": "text/x-python",
   "name": "python",
   "nbconvert_exporter": "python",
   "pygments_lexer": "ipython3",
   "version": "3.7.6"
  },
  "rise": {
   "height": 600,
   "scroll": true
  }
 },
 "nbformat": 4,
 "nbformat_minor": 4
}
